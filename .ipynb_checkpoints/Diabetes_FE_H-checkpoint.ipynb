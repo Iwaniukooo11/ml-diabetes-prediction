{
 "cells": [
  {
   "cell_type": "markdown",
   "id": "8b4f1b22",
   "metadata": {},
   "source": [
    "# Feature engineering and first models for Diabetes dataset"
   ]
  },
  {
   "cell_type": "code",
   "execution_count": 75,
   "id": "10980e34",
   "metadata": {},
   "outputs": [],
   "source": [
    "import pandas as pd\n",
    "import numpy as np\n",
    "from matplotlib import pyplot as plt\n",
    "from sklearn.model_selection import train_test_split\n",
    "from sklearn.preprocessing import MinMaxScaler"
   ]
  },
  {
   "cell_type": "code",
   "execution_count": 43,
   "id": "a3ee18d3",
   "metadata": {},
   "outputs": [],
   "source": [
    "data = pd.read_csv(\"data/diabetes_012_health_indicators_BRFSS2015.csv\")"
   ]
  },
  {
   "cell_type": "code",
   "execution_count": 26,
   "id": "5e528d9e",
   "metadata": {},
   "outputs": [],
   "source": [
    "train_set, validation_set = train_test_split(\n",
    "data, test_size=0.3, stratify=data[\"Diabetes_012\"], random_state=42)"
   ]
  },
  {
   "cell_type": "code",
   "execution_count": 29,
   "id": "4091e1da",
   "metadata": {},
   "outputs": [],
   "source": [
    "validation_set.to_csv(\"validation_set.csv\", index=False)"
   ]
  },
  {
   "cell_type": "code",
   "execution_count": 44,
   "id": "c0091a2f",
   "metadata": {},
   "outputs": [],
   "source": [
    "data[\"Diabetes_012\"] = data[\"Diabetes_012\"].astype(int)\n",
    "data[\"HighBP\"] = data[\"HighBP\"].astype(int)\n",
    "data[\"HighChol\"] = data[\"HighChol\"].astype(int)\n",
    "data[\"CholCheck\"] = data[\"CholCheck\"].astype(int)\n",
    "data[\"BMI\"] = data[\"BMI\"].astype(int)\n",
    "data[\"Smoker\"] = data[\"Smoker\"].astype(int)\n",
    "data[\"Stroke\"] = data[\"Stroke\"].astype(int)\n",
    "data[\"HeartDiseaseorAttack\"] = data[\"HeartDiseaseorAttack\"].astype(int)\n",
    "data[\"PhysActivity\"] = data[\"PhysActivity\"].astype(int)\n",
    "data[\"Fruits\"] = data[\"Fruits\"].astype(int) \n",
    "data[\"Veggies\"] = data[\"Veggies\"].astype(int)\n",
    "data[\"HvyAlcoholConsump\"] = data[\"HvyAlcoholConsump\"].astype(int)\n",
    "data[\"AnyHealthcare\"] = data[\"AnyHealthcare\"].astype(int)\n",
    "data[\"NoDocbcCost\"] = data[\"NoDocbcCost\"].astype(int)\n",
    "data[\"GenHlth\"] = data[\"GenHlth\"].astype(int)\n",
    "data[\"MentHlth\"] = data[\"MentHlth\"].astype(int)\n",
    "data[\"PhysHlth\"] = data[\"PhysHlth\"].astype(int)\n",
    "data[\"DiffWalk\"] = data[\"DiffWalk\"].astype(int)\n",
    "data[\"Sex\"] = data[\"Sex\"].astype(int)\n",
    "data[\"Age\"] = data[\"Age\"].astype(int)\n",
    "data[\"Education\"] = data[\"Education\"].astype(int)\n",
    "data[\"Income\"] =data[\"Income\"].astype(int)"
   ]
  },
  {
   "cell_type": "markdown",
   "id": "4093f908",
   "metadata": {},
   "source": [
    "### Remove outliers from BMI"
   ]
  },
  {
   "cell_type": "code",
   "execution_count": 46,
   "id": "1bc31bac",
   "metadata": {},
   "outputs": [],
   "source": [
    "df_filtered = data.copy(deep=True)\n",
    "\n",
    "# Identify outliers for BMI\n",
    "Q1 = df_filtered['BMI'].quantile(0.25)\n",
    "Q3 = df_filtered['BMI'].quantile(0.75)\n",
    "IQR = Q3 - Q1\n",
    "lower_bound = Q1 - 1.5 * IQR\n",
    "upper_bound = Q3 + 1.5 * IQR\n",
    "\n",
    "# Find outliers for BMI\n",
    "outliers_bmi = (df_filtered['BMI'] < lower_bound) | (df_filtered['BMI'] > upper_bound)\n",
    "\n",
    "# Replace outliers with the last valid value\n",
    "last_valid_bmi = df_filtered['BMI'][~outliers_bmi].iloc[-1]\n",
    "df_filtered.loc[outliers_bmi, 'BMI'] = last_valid_bmi"
   ]
  },
  {
   "cell_type": "code",
   "execution_count": 47,
   "id": "ecd56dd5",
   "metadata": {
    "scrolled": false
   },
   "outputs": [
    {
     "data": {
      "image/png": "[encoded data removed]",
      "text/plain": [
       "<Figure size 576x432 with 1 Axes>"
      ]
     },
     "metadata": {
      "needs_background": "light"
     },
     "output_type": "display_data"
    }
   ],
   "source": [
    "plt.figure(figsize=(8, 6))\n",
    "df_filtered.boxplot(column=['BMI'])\n",
    "plt.title('Box Plot of BMI')\n",
    "plt.ylabel('BMI')\n",
    "plt.show()"
   ]
  },
  {
   "cell_type": "markdown",
   "id": "a17a6547",
   "metadata": {},
   "source": [
    "### Binning of PhysHlth and MentHlth"
   ]
  },
  {
   "cell_type": "code",
   "execution_count": 67,
   "id": "0c222396",
   "metadata": {},
   "outputs": [],
   "source": [
    "df_filtered[\"PhysHlth\"] = pd.cut(df_filtered[\"PhysHlth\"],\n",
    "bins=[-np.inf, 5., 10., 15., 20., 25., np.inf],\n",
    "labels=[1, 2, 3, 4, 5, 6])"
   ]
  },
  {
   "cell_type": "code",
   "execution_count": 68,
   "id": "730cabed",
   "metadata": {
    "scrolled": true
   },
   "outputs": [
    {
     "data": {
      "text/plain": [
       "1    206863\n",
       "6     20305\n",
       "2     12451\n",
       "3      8209\n",
       "4      3655\n",
       "5      2197\n",
       "Name: PhysHlth, dtype: int64"
      ]
     },
     "execution_count": 68,
     "metadata": {},
     "output_type": "execute_result"
    }
   ],
   "source": [
    "df_filtered[\"PhysHlth\"].value_counts()"
   ]
  },
  {
   "cell_type": "code",
   "execution_count": 73,
   "id": "61f2023c",
   "metadata": {},
   "outputs": [],
   "source": [
    "df_filtered[\"MentHlth\"] = pd.cut(df_filtered[\"MentHlth\"],\n",
    "bins=[-np.inf, 5., 10., 15., 20., 25., np.inf],\n",
    "labels=[1, 2, 3, 4, 5, 6])"
   ]
  },
  {
   "cell_type": "code",
   "execution_count": 74,
   "id": "5871f3f1",
   "metadata": {
    "scrolled": true
   },
   "outputs": [
    {
     "data": {
      "text/plain": [
       "1    217472\n",
       "6     12697\n",
       "2     11191\n",
       "3      7152\n",
       "4      3619\n",
       "5      1549\n",
       "Name: MentHlth, dtype: int64"
      ]
     },
     "execution_count": 74,
     "metadata": {},
     "output_type": "execute_result"
    }
   ],
   "source": [
    "df_filtered[\"MentHlth\"].value_counts()"
   ]
  },
  {
   "cell_type": "markdown",
   "id": "b4656cd7",
   "metadata": {},
   "source": [
    "### Remove prediabetes from dataset"
   ]
  },
  {
   "cell_type": "code",
   "execution_count": 83,
   "id": "74f27764",
   "metadata": {},
   "outputs": [],
   "source": [
    "df_filtered_binary = df_filtered[(df_filtered[\"Diabetes_012\"] == 0) | (df_filtered[\"Diabetes_012\"] == 2)]"
   ]
  },
  {
   "cell_type": "code",
   "execution_count": 76,
   "id": "be86be45",
   "metadata": {},
   "outputs": [],
   "source": [
    "min_max_scaler = MinMaxScaler(feature_range=(0, 1))"
   ]
  },
  {
   "cell_type": "code",
   "execution_count": 88,
   "id": "b429ff6d",
   "metadata": {},
   "outputs": [],
   "source": [
    "test = pd.DataFrame(min_max_scaler.fit_transform(df_filtered_binary.values), columns=df_filtered_binary.columns, index=df_filtered_binary.index)"
   ]
  },
  {
   "cell_type": "code",
   "execution_count": 89,
   "id": "114f15f2",
   "metadata": {},
   "outputs": [
    {
     "data": {
      "text/plain": [
       "0.0    213703\n",
       "1.0     35346\n",
       "Name: Diabetes_012, dtype: int64"
      ]
     },
     "execution_count": 89,
     "metadata": {},
     "output_type": "execute_result"
    }
   ],
   "source": [
    "test[\"Diabetes_012\"].value_counts()"
   ]
  },
  {
   "cell_type": "code",
   "execution_count": 56,
   "id": "67deb8e3",
   "metadata": {},
   "outputs": [],
   "source": [
    "X = df_filtered.loc[:, df_filtered.columns != 'Diabetes_012']\n",
    "y = df_filtered[\"Diabetes_012\"]\n"
   ]
  },
  {
   "cell_type": "code",
   "execution_count": 55,
   "id": "1c3b8e53",
   "metadata": {},
   "outputs": [
    {
     "data": {
      "text/html": [
       "<div>\n",
       "<style scoped>\n",
       "    .dataframe tbody tr th:only-of-type {\n",
       "        vertical-align: middle;\n",
       "    }\n",
       "\n",
       "    .dataframe tbody tr th {\n",
       "        vertical-align: top;\n",
       "    }\n",
       "\n",
       "    .dataframe thead th {\n",
       "        text-align: right;\n",
       "    }\n",
       "</style>\n",
       "<table border=\"1\" class=\"dataframe\">\n",
       "  <thead>\n",
       "    <tr style=\"text-align: right;\">\n",
       "      <th></th>\n",
       "      <th>HighBP</th>\n",
       "      <th>HighChol</th>\n",
       "      <th>CholCheck</th>\n",
       "      <th>BMI</th>\n",
       "      <th>Smoker</th>\n",
       "      <th>Stroke</th>\n",
       "      <th>HeartDiseaseorAttack</th>\n",
       "      <th>PhysActivity</th>\n",
       "      <th>Fruits</th>\n",
       "      <th>Veggies</th>\n",
       "      <th>...</th>\n",
       "      <th>AnyHealthcare</th>\n",
       "      <th>NoDocbcCost</th>\n",
       "      <th>GenHlth</th>\n",
       "      <th>MentHlth</th>\n",
       "      <th>PhysHlth</th>\n",
       "      <th>DiffWalk</th>\n",
       "      <th>Sex</th>\n",
       "      <th>Age</th>\n",
       "      <th>Education</th>\n",
       "      <th>Income</th>\n",
       "    </tr>\n",
       "  </thead>\n",
       "  <tbody>\n",
       "    <tr>\n",
       "      <th>0</th>\n",
       "      <td>1</td>\n",
       "      <td>1</td>\n",
       "      <td>1</td>\n",
       "      <td>40</td>\n",
       "      <td>1</td>\n",
       "      <td>0</td>\n",
       "      <td>0</td>\n",
       "      <td>0</td>\n",
       "      <td>0</td>\n",
       "      <td>1</td>\n",
       "      <td>...</td>\n",
       "      <td>1</td>\n",
       "      <td>0</td>\n",
       "      <td>5</td>\n",
       "      <td>18</td>\n",
       "      <td>15</td>\n",
       "      <td>1</td>\n",
       "      <td>0</td>\n",
       "      <td>9</td>\n",
       "      <td>4</td>\n",
       "      <td>3</td>\n",
       "    </tr>\n",
       "    <tr>\n",
       "      <th>1</th>\n",
       "      <td>0</td>\n",
       "      <td>0</td>\n",
       "      <td>0</td>\n",
       "      <td>25</td>\n",
       "      <td>1</td>\n",
       "      <td>0</td>\n",
       "      <td>0</td>\n",
       "      <td>1</td>\n",
       "      <td>0</td>\n",
       "      <td>0</td>\n",
       "      <td>...</td>\n",
       "      <td>0</td>\n",
       "      <td>1</td>\n",
       "      <td>3</td>\n",
       "      <td>0</td>\n",
       "      <td>0</td>\n",
       "      <td>0</td>\n",
       "      <td>0</td>\n",
       "      <td>7</td>\n",
       "      <td>6</td>\n",
       "      <td>1</td>\n",
       "    </tr>\n",
       "    <tr>\n",
       "      <th>2</th>\n",
       "      <td>1</td>\n",
       "      <td>1</td>\n",
       "      <td>1</td>\n",
       "      <td>28</td>\n",
       "      <td>0</td>\n",
       "      <td>0</td>\n",
       "      <td>0</td>\n",
       "      <td>0</td>\n",
       "      <td>1</td>\n",
       "      <td>0</td>\n",
       "      <td>...</td>\n",
       "      <td>1</td>\n",
       "      <td>1</td>\n",
       "      <td>5</td>\n",
       "      <td>30</td>\n",
       "      <td>30</td>\n",
       "      <td>1</td>\n",
       "      <td>0</td>\n",
       "      <td>9</td>\n",
       "      <td>4</td>\n",
       "      <td>8</td>\n",
       "    </tr>\n",
       "    <tr>\n",
       "      <th>3</th>\n",
       "      <td>1</td>\n",
       "      <td>0</td>\n",
       "      <td>1</td>\n",
       "      <td>27</td>\n",
       "      <td>0</td>\n",
       "      <td>0</td>\n",
       "      <td>0</td>\n",
       "      <td>1</td>\n",
       "      <td>1</td>\n",
       "      <td>1</td>\n",
       "      <td>...</td>\n",
       "      <td>1</td>\n",
       "      <td>0</td>\n",
       "      <td>2</td>\n",
       "      <td>0</td>\n",
       "      <td>0</td>\n",
       "      <td>0</td>\n",
       "      <td>0</td>\n",
       "      <td>11</td>\n",
       "      <td>3</td>\n",
       "      <td>6</td>\n",
       "    </tr>\n",
       "    <tr>\n",
       "      <th>4</th>\n",
       "      <td>1</td>\n",
       "      <td>1</td>\n",
       "      <td>1</td>\n",
       "      <td>24</td>\n",
       "      <td>0</td>\n",
       "      <td>0</td>\n",
       "      <td>0</td>\n",
       "      <td>1</td>\n",
       "      <td>1</td>\n",
       "      <td>1</td>\n",
       "      <td>...</td>\n",
       "      <td>1</td>\n",
       "      <td>0</td>\n",
       "      <td>2</td>\n",
       "      <td>3</td>\n",
       "      <td>0</td>\n",
       "      <td>0</td>\n",
       "      <td>0</td>\n",
       "      <td>11</td>\n",
       "      <td>5</td>\n",
       "      <td>4</td>\n",
       "    </tr>\n",
       "  </tbody>\n",
       "</table>\n",
       "<p>5 rows × 21 columns</p>\n",
       "</div>"
      ],
      "text/plain": [
       "   HighBP  HighChol  CholCheck  BMI  Smoker  Stroke  HeartDiseaseorAttack  \\\n",
       "0       1         1          1   40       1       0                     0   \n",
       "1       0         0          0   25       1       0                     0   \n",
       "2       1         1          1   28       0       0                     0   \n",
       "3       1         0          1   27       0       0                     0   \n",
       "4       1         1          1   24       0       0                     0   \n",
       "\n",
       "   PhysActivity  Fruits  Veggies  ...  AnyHealthcare  NoDocbcCost  GenHlth  \\\n",
       "0             0       0        1  ...              1            0        5   \n",
       "1             1       0        0  ...              0            1        3   \n",
       "2             0       1        0  ...              1            1        5   \n",
       "3             1       1        1  ...              1            0        2   \n",
       "4             1       1        1  ...              1            0        2   \n",
       "\n",
       "   MentHlth  PhysHlth  DiffWalk  Sex  Age  Education  Income  \n",
       "0        18        15         1    0    9          4       3  \n",
       "1         0         0         0    0    7          6       1  \n",
       "2        30        30         1    0    9          4       8  \n",
       "3         0         0         0    0   11          3       6  \n",
       "4         3         0         0    0   11          5       4  \n",
       "\n",
       "[5 rows x 21 columns]"
      ]
     },
     "execution_count": 55,
     "metadata": {},
     "output_type": "execute_result"
    }
   ],
   "source": []
  },
  {
   "cell_type": "code",
   "execution_count": null,
   "id": "b77fc1e4",
   "metadata": {},
   "outputs": [],
   "source": []
  }
 ],
 "metadata": {
  "kernelspec": {
   "display_name": "Python 3 (ipykernel)",
   "language": "python",
   "name": "python3"
  },
  "language_info": {
   "codemirror_mode": {
    "name": "ipython",
    "version": 3
   },
   "file_extension": ".py",
   "mimetype": "text/x-python",
   "name": "python",
   "nbconvert_exporter": "python",
   "pygments_lexer": "ipython3",
   "version": "3.9.12"
  }
 },
 "nbformat": 4,
 "nbformat_minor": 5
}
