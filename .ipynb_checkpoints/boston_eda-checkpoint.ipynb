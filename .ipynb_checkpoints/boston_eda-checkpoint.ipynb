{
 "cells": [
  {
   "cell_type": "markdown",
   "metadata": {},
   "source": [
    "# Pakiety"
   ]
  },
  {
   "cell_type": "code",
   "execution_count": null,
   "metadata": {},
   "outputs": [],
   "source": [
    "import pandas as pd\n",
    "import numpy as np\n",
    "import sklearn \n",
    "import seaborn as sns\n",
    "import matplotlib.pyplot as plt\n",
    "import matplotlib\n",
    "import warnings\n",
    "warnings.filterwarnings('ignore')\n",
    "np.random.seed(23)"
   ]
  },
  {
   "cell_type": "markdown",
   "metadata": {},
   "source": [
    "# ETYKA, PRAWO"
   ]
  },
  {
   "cell_type": "code",
   "execution_count": null,
   "metadata": {},
   "outputs": [],
   "source": [
    "#from sklearn.datasets import load_boston"
   ]
  },
  {
   "cell_type": "markdown",
   "metadata": {},
   "source": [
    "# Boston - EDA"
   ]
  },
  {
   "cell_type": "code",
   "execution_count": null,
   "metadata": {},
   "outputs": [],
   "source": [
    "import pandas as pd\n",
    "import numpy as np\n",
    "\n",
    "data_url = \"http://lib.stat.cmu.edu/datasets/boston\"\n",
    "raw_df = pd.read_csv(data_url, sep=\"\\s+\", skiprows=22, header=None)\n",
    "boston_df = np.hstack([raw_df.values[::2, :], raw_df.values[1::2, :3]])\n",
    "target = raw_df.values[1::2, 2]"
   ]
  },
  {
   "cell_type": "markdown",
   "metadata": {},
   "source": [
    "CRIM - wskaźnik przestępczości na osobę w mieście\n",
    "\n",
    "ZN - odsetek terenów mieszkalnych przeznaczonych pod działki o powierzchni powyżej 25 000 stóp kwadratowych\n",
    "\n",
    "INDUS - odsetek akrow przeznaczonych na działalność niemieszkalną na miasto\n",
    "\n",
    "CHAS - zmienna dummy rzeki Charles (równa 1, jeśli działka graniczy z rzeką; w przeciwnym razie 0)\n",
    "\n",
    "NOX - stężenie tlenków azotu (części na 10 milionów)\n",
    "\n",
    "RM - średnia liczba pokoi na mieszkanie\n",
    "\n",
    "AGE - odsetek jednostek zamieszkałych przez właścicieli zbudowanych przed 1940 rokiem\n",
    "\n",
    "DIS - ważone odległości do pięciu bostońskich centrów zatrudnienia\n",
    "\n",
    "RAD - indeks dostępności do autostrad promienistych\n",
    "\n",
    "TAX - pełna stawka podatku od nieruchomości na 10 000 dolarów\n",
    "\n",
    "PTRATIO - stosunek liczby uczniów do nauczycieli w mieście\n",
    "\n",
    "<span style=\"color:red;\">B        1000(Bk - 0.63)^2 where Bk is the proportion of blacks by town</span>\n",
    "\n",
    "LSTAT - % osób o niższym statusie społecznym\n",
    "\n",
    "MEDV - mediana wartości domów zamieszkałych przez właścicieli w tysiącach dolarów\n"
   ]
  },
  {
   "cell_type": "code",
   "execution_count": null,
   "metadata": {},
   "outputs": [],
   "source": [
    "boston_df = pd.DataFrame(boston_df, columns=['CRIM','ZN','INDUS','CHAS','NOX','RM','AGE','DIS','RAD','TAX','PTRATIO','B','LSTAT','MEDV'])"
   ]
  },
  {
   "cell_type": "code",
   "execution_count": null,
   "metadata": {},
   "outputs": [],
   "source": [
    "boston_df = boston_df.drop(columns=\"B\")"
   ]
  },
  {
   "cell_type": "code",
   "execution_count": null,
   "metadata": {},
   "outputs": [],
   "source": [
    "boston_df.head()"
   ]
  },
  {
   "cell_type": "code",
   "execution_count": null,
   "metadata": {},
   "outputs": [],
   "source": [
    "r\"\"\"\n",
    "COLOR = 'white'\n",
    "matplotlib.rcParams['text.color'] = COLOR\n",
    "matplotlib.rcParams['axes.labelcolor'] = COLOR\n",
    "matplotlib.rcParams['xtick.color'] = COLOR\n",
    "matplotlib.rcParams['ytick.color'] = COLOR\n",
    "matplotlib.rcParams['figure.figsize'] = (10, 6)\n",
    "matplotlib.rcParams['font.size'] = 14\"\"\""
   ]
  },
  {
   "cell_type": "markdown",
   "metadata": {},
   "source": [
    "Metody .info() i .describe() to również nasi przyjaciele"
   ]
  },
  {
   "cell_type": "code",
   "execution_count": null,
   "metadata": {},
   "outputs": [],
   "source": [
    "boston_df.info()\n",
    "# nie ma braków, tylko dane numeryczne"
   ]
  },
  {
   "cell_type": "code",
   "execution_count": null,
   "metadata": {},
   "outputs": [],
   "source": [
    "boston_df.describe()"
   ]
  },
  {
   "cell_type": "markdown",
   "metadata": {},
   "source": [
    "### Zobaczmy rozkłady poszczególnych zmiennych\n",
    "Pomimo, że wszystkie zmienne są typu *float*, to nadal możemy mieć zmienne dyskretne/kategoryczne  \n",
    "Można to sprwadzić przy użyciu metody *value_counts()* oraz **opisu danych**  \n",
    "W tym przypadku, poza CHAS nie ma takiej sytuacji"
   ]
  },
  {
   "cell_type": "code",
   "execution_count": null,
   "metadata": {},
   "outputs": [],
   "source": [
    "#boston_df.hist(figsize=(25, 12), bins=40)\n",
    "boston_df.hist(figsize=(18, 12), bins=30)\n",
    "plt.show()"
   ]
  },
  {
   "cell_type": "code",
   "execution_count": null,
   "metadata": {},
   "outputs": [],
   "source": [
    "# tu występuje dość mało wartośći, ale to nie jest zmienna kategoryczna\n",
    "boston_df['RAD'].value_counts()"
   ]
  },
  {
   "cell_type": "markdown",
   "metadata": {},
   "source": [
    "### Uwaga! Z naszą zmienną targetową jest pewien problem"
   ]
  },
  {
   "cell_type": "code",
   "execution_count": null,
   "metadata": {},
   "outputs": [],
   "source": [
    "boston_df['MEDV'].value_counts()"
   ]
  },
  {
   "cell_type": "markdown",
   "metadata": {},
   "source": [
    "Zmienna MEDV została *zczapkowana* (*ang. capped*) - ucięta na wartości 50.0"
   ]
  },
  {
   "cell_type": "markdown",
   "metadata": {},
   "source": [
    "# Przegląd wizualizacji"
   ]
  },
  {
   "cell_type": "code",
   "execution_count": null,
   "metadata": {},
   "outputs": [],
   "source": [
    "plt.plot(boston_df['RM'], 'o')\n",
    "plt.title('Zmienna RM (liczba pokoi) w kolejnych rekordach')\n",
    "plt.xlabel('rekordy')\n",
    "plt.ylabel('RM')\n",
    "plt.show()"
   ]
  },
  {
   "cell_type": "code",
   "execution_count": null,
   "metadata": {},
   "outputs": [],
   "source": [
    "plot_dens=sns.distplot(boston_df['RM'], hist = True, kde = True,\n",
    "                 kde_kws = {'shade': True, 'linewidth': 3})\n",
    "plot_dens.set_title('Rozkład zmiennej RM')\n",
    "plt.show()"
   ]
  },
  {
   "cell_type": "code",
   "execution_count": null,
   "metadata": {},
   "outputs": [],
   "source": [
    "box_plot = sns.boxplot(boston_df['RM'])\n",
    "box_plot.set_title('Zmienna RM')\n",
    "\n",
    "print('mediana = %s' % np.median(boston_df['RM']))\n",
    "print('średnia = %s' % np.mean(boston_df['RM']))\n",
    "print('Q1 = %s' %np.percentile(boston_df['RM'], 25),'Q3 = %s' %np.percentile(boston_df['RM'], 75))"
   ]
  },
  {
   "cell_type": "code",
   "execution_count": null,
   "metadata": {},
   "outputs": [],
   "source": [
    "sns.pairplot(boston_df.iloc[:,[0,5,10]])\n",
    "plt.tight_layout()\n",
    "\n",
    "# tak naprawdę wystarczyłoby narysowanie tylko części wykresów\n",
    "# czy jest koleracja zmiennych?"
   ]
  },
  {
   "cell_type": "code",
   "execution_count": null,
   "metadata": {},
   "outputs": [],
   "source": [
    "corr=boston_df.iloc[:,np.r_[0:7,10]].corr()\n",
    "ax=sns.heatmap(corr, \n",
    "            xticklabels=corr.columns,\n",
    "            yticklabels=corr.columns, annot=True)\n",
    "\n",
    "# below is a workaround for matrix truncation\n",
    "bottom, top = ax.get_ylim()\n",
    "ax.set_ylim(bottom + 0.5, top - 0.5)\n",
    "ax.set_title('Korelacja zmiennych')\n",
    "plt.show()"
   ]
  },
  {
   "cell_type": "code",
   "execution_count": null,
   "metadata": {},
   "outputs": [],
   "source": [
    "sns.lmplot( x='LSTAT', y='RM', data=boston_df, aspect=1.3)\n",
    "plt.show()\n",
    "#fit_reg=False, # No regression line\n",
    "#dodaje automatycznie prostą regresji"
   ]
  }
 ],
 "metadata": {
  "kernelspec": {
   "display_name": "Python 3 (ipykernel)",
   "language": "python",
   "name": "python3"
  },
  "language_info": {
   "codemirror_mode": {
    "name": "ipython",
    "version": 3
   },
   "file_extension": ".py",
   "mimetype": "text/x-python",
   "name": "python",
   "nbconvert_exporter": "python",
   "pygments_lexer": "ipython3",
   "version": "3.9.12"
  }
 },
 "nbformat": 4,
 "nbformat_minor": 4
}
