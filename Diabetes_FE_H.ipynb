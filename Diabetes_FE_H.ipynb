{
 "cells": [
  {
   "cell_type": "markdown",
   "id": "821f8378",
   "metadata": {},
   "source": [
    "# Feature engineering and first models for Diabetes dataset"
   ]
  },
  {
   "cell_type": "code",
   "execution_count": 2,
   "id": "0286934b",
   "metadata": {},
   "outputs": [],
   "source": [
    "import pandas as pd\n",
    "import numpy as np\n",
    "from matplotlib import pyplot as plt\n",
    "from sklearn.model_selection import train_test_split\n",
    "from sklearn.preprocessing import MinMaxScaler\n",
    "from sklearn.model_selection import RandomizedSearchCV, cross_validate, GridSearchCV\n",
    "from sklearn.linear_model import LogisticRegression\n",
    "from sklearn.neighbors import KNeighborsClassifier\n",
    "from sklearn.ensemble import RandomForestClassifier"
   ]
  },
  {
   "cell_type": "code",
   "execution_count": 3,
   "id": "a4b23228",
   "metadata": {},
   "outputs": [],
   "source": [
    "data = pd.read_csv(\"data/diabetes_012_health_indicators_BRFSS2015.csv\")"
   ]
  },
  {
   "cell_type": "code",
   "execution_count": 44,
   "id": "b673c83c",
   "metadata": {},
   "outputs": [],
   "source": [
    "data[\"Diabetes_012\"] = data[\"Diabetes_012\"].astype(int)\n",
    "data[\"HighBP\"] = data[\"HighBP\"].astype(int)\n",
    "data[\"HighChol\"] = data[\"HighChol\"].astype(int)\n",
    "data[\"CholCheck\"] = data[\"CholCheck\"].astype(int)\n",
    "data[\"BMI\"] = data[\"BMI\"].astype(int)\n",
    "data[\"Smoker\"] = data[\"Smoker\"].astype(int)\n",
    "data[\"Stroke\"] = data[\"Stroke\"].astype(int)\n",
    "data[\"HeartDiseaseorAttack\"] = data[\"HeartDiseaseorAttack\"].astype(int)\n",
    "data[\"PhysActivity\"] = data[\"PhysActivity\"].astype(int)\n",
    "data[\"Fruits\"] = data[\"Fruits\"].astype(int) \n",
    "data[\"Veggies\"] = data[\"Veggies\"].astype(int)\n",
    "data[\"HvyAlcoholConsump\"] = data[\"HvyAlcoholConsump\"].astype(int)\n",
    "data[\"AnyHealthcare\"] = data[\"AnyHealthcare\"].astype(int)\n",
    "data[\"NoDocbcCost\"] = data[\"NoDocbcCost\"].astype(int)\n",
    "data[\"GenHlth\"] = data[\"GenHlth\"].astype(int)\n",
    "data[\"MentHlth\"] = data[\"MentHlth\"].astype(int)\n",
    "data[\"PhysHlth\"] = data[\"PhysHlth\"].astype(int)\n",
    "data[\"DiffWalk\"] = data[\"DiffWalk\"].astype(int)\n",
    "data[\"Sex\"] = data[\"Sex\"].astype(int)\n",
    "data[\"Age\"] = data[\"Age\"].astype(int)\n",
    "data[\"Education\"] = data[\"Education\"].astype(int)\n",
    "data[\"Income\"] =data[\"Income\"].astype(int)"
   ]
  },
  {
   "cell_type": "markdown",
   "id": "5330f093",
   "metadata": {},
   "source": [
    "### Remove outliers from BMI"
   ]
  },
  {
   "cell_type": "code",
   "execution_count": 4,
   "id": "de43e347",
   "metadata": {},
   "outputs": [],
   "source": [
    "df_filtered = data.copy(deep=True)\n",
    "\n",
    "# Identify outliers for BMI\n",
    "Q1 = df_filtered['BMI'].quantile(0.25)\n",
    "Q3 = df_filtered['BMI'].quantile(0.75)\n",
    "IQR = Q3 - Q1\n",
    "lower_bound = Q1 - 1.5 * IQR\n",
    "upper_bound = Q3 + 1.5 * IQR\n",
    "\n",
    "# Find outliers for BMI\n",
    "outliers_bmi = (df_filtered['BMI'] < lower_bound) | (df_filtered['BMI'] > upper_bound)\n",
    "\n",
    "# Replace outliers with the last valid value\n",
    "last_valid_bmi = df_filtered['BMI'][~outliers_bmi].iloc[-1]\n",
    "df_filtered.loc[outliers_bmi, 'BMI'] = last_valid_bmi"
   ]
  },
  {
   "cell_type": "code",
   "execution_count": 47,
   "id": "78789be9",
   "metadata": {
    "scrolled": false
   },
   "outputs": [
    {
     "data": {
      "image/png": "[encoded data removed]",
      "text/plain": [
       "<Figure size 576x432 with 1 Axes>"
      ]
     },
     "metadata": {
      "needs_background": "light"
     },
     "output_type": "display_data"
    }
   ],
   "source": [
    "plt.figure(figsize=(8, 6))\n",
    "df_filtered.boxplot(column=['BMI'])\n",
    "plt.title('Box Plot of BMI')\n",
    "plt.ylabel('BMI')\n",
    "plt.show()"
   ]
  },
  {
   "cell_type": "markdown",
   "id": "5e3d05cf",
   "metadata": {},
   "source": [
    "### Binning of PhysHlth and MentHlth"
   ]
  },
  {
   "cell_type": "code",
   "execution_count": 5,
   "id": "53ede0d0",
   "metadata": {},
   "outputs": [],
   "source": [
    "df_filtered[\"PhysHlth\"] = pd.cut(df_filtered[\"PhysHlth\"],\n",
    "bins=[-np.inf, 5., 10., 15., 20., 25., np.inf],\n",
    "labels=[1, 2, 3, 4, 5, 6])"
   ]
  },
  {
   "cell_type": "code",
   "execution_count": 6,
   "id": "95830786",
   "metadata": {
    "scrolled": true
   },
   "outputs": [
    {
     "data": {
      "text/plain": [
       "1    206863\n",
       "6     20305\n",
       "2     12451\n",
       "3      8209\n",
       "4      3655\n",
       "5      2197\n",
       "Name: PhysHlth, dtype: int64"
      ]
     },
     "execution_count": 6,
     "metadata": {},
     "output_type": "execute_result"
    }
   ],
   "source": [
    "df_filtered[\"PhysHlth\"].value_counts()"
   ]
  },
  {
   "cell_type": "code",
   "execution_count": 7,
   "id": "2cab7d55",
   "metadata": {},
   "outputs": [],
   "source": [
    "df_filtered[\"MentHlth\"] = pd.cut(df_filtered[\"MentHlth\"],\n",
    "bins=[-np.inf, 5., 10., 15., 20., 25., np.inf],\n",
    "labels=[1, 2, 3, 4, 5, 6])"
   ]
  },
  {
   "cell_type": "code",
   "execution_count": 74,
   "id": "7e85bdfc",
   "metadata": {
    "scrolled": true
   },
   "outputs": [
    {
     "data": {
      "text/plain": [
       "1    217472\n",
       "6     12697\n",
       "2     11191\n",
       "3      7152\n",
       "4      3619\n",
       "5      1549\n",
       "Name: MentHlth, dtype: int64"
      ]
     },
     "execution_count": 74,
     "metadata": {},
     "output_type": "execute_result"
    }
   ],
   "source": [
    "df_filtered[\"MentHlth\"].value_counts()"
   ]
  },
  {
   "cell_type": "markdown",
   "id": "2ec711c2",
   "metadata": {},
   "source": [
    "### Remove prediabetes from dataset"
   ]
  },
  {
   "cell_type": "code",
   "execution_count": 8,
   "id": "d72a8ec6",
   "metadata": {},
   "outputs": [],
   "source": [
    "df_filtered_binary = df_filtered[(df_filtered[\"Diabetes_012\"] == 0) | (df_filtered[\"Diabetes_012\"] == 2)]"
   ]
  },
  {
   "cell_type": "code",
   "execution_count": 9,
   "id": "6e1ba06f",
   "metadata": {},
   "outputs": [],
   "source": [
    "train_set, v_t_set = train_test_split(\n",
    "df_filtered_binary, test_size=0.3, stratify=df_filtered_binary[\"Diabetes_012\"], random_state=42)\n",
    "\n",
    "validation_set, test_set = train_test_split(\n",
    "v_t_set, test_size=0.3, stratify=v_t_set[\"Diabetes_012\"], random_state=42)\n",
    "\n",
    "#validation_set.to_csv(\"data/validation_set.csv\", index=False)\n",
    "#test_set.to_csv(\"data/test_set.csv\", index = False)\n",
    "#train_set.to_csv(\"data/train_set.csv\", index = False)"
   ]
  },
  {
   "cell_type": "code",
   "execution_count": 10,
   "id": "21a0625e",
   "metadata": {},
   "outputs": [],
   "source": [
    "min_max_scaler = MinMaxScaler(feature_range=(0, 1))"
   ]
  },
  {
   "cell_type": "code",
   "execution_count": 11,
   "id": "581169ce",
   "metadata": {},
   "outputs": [],
   "source": [
    "train_binary_scaled = pd.DataFrame(min_max_scaler.fit_transform(train_set.values), columns=train_set.columns, index=train_set.index)"
   ]
  },
  {
   "cell_type": "code",
   "execution_count": 12,
   "id": "7b4b2029",
   "metadata": {},
   "outputs": [],
   "source": [
    "test_binary_scaled = pd.DataFrame(min_max_scaler.transform(test_set.values), columns=test_set.columns, index=test_set.index)"
   ]
  },
  {
   "cell_type": "code",
   "execution_count": 13,
   "id": "f3f94157",
   "metadata": {},
   "outputs": [
    {
     "data": {
      "text/html": [
       "<div>\n",
       "<style scoped>\n",
       "    .dataframe tbody tr th:only-of-type {\n",
       "        vertical-align: middle;\n",
       "    }\n",
       "\n",
       "    .dataframe tbody tr th {\n",
       "        vertical-align: top;\n",
       "    }\n",
       "\n",
       "    .dataframe thead th {\n",
       "        text-align: right;\n",
       "    }\n",
       "</style>\n",
       "<table border=\"1\" class=\"dataframe\">\n",
       "  <thead>\n",
       "    <tr style=\"text-align: right;\">\n",
       "      <th></th>\n",
       "      <th>Diabetes_012</th>\n",
       "      <th>HighBP</th>\n",
       "      <th>HighChol</th>\n",
       "      <th>CholCheck</th>\n",
       "      <th>BMI</th>\n",
       "      <th>Smoker</th>\n",
       "      <th>Stroke</th>\n",
       "      <th>HeartDiseaseorAttack</th>\n",
       "      <th>PhysActivity</th>\n",
       "      <th>Fruits</th>\n",
       "      <th>...</th>\n",
       "      <th>AnyHealthcare</th>\n",
       "      <th>NoDocbcCost</th>\n",
       "      <th>GenHlth</th>\n",
       "      <th>MentHlth</th>\n",
       "      <th>PhysHlth</th>\n",
       "      <th>DiffWalk</th>\n",
       "      <th>Sex</th>\n",
       "      <th>Age</th>\n",
       "      <th>Education</th>\n",
       "      <th>Income</th>\n",
       "    </tr>\n",
       "  </thead>\n",
       "  <tbody>\n",
       "    <tr>\n",
       "      <th>40181</th>\n",
       "      <td>0.0</td>\n",
       "      <td>1.0</td>\n",
       "      <td>0.0</td>\n",
       "      <td>1.0</td>\n",
       "      <td>0.407407</td>\n",
       "      <td>0.0</td>\n",
       "      <td>0.0</td>\n",
       "      <td>0.0</td>\n",
       "      <td>1.0</td>\n",
       "      <td>1.0</td>\n",
       "      <td>...</td>\n",
       "      <td>1.0</td>\n",
       "      <td>0.0</td>\n",
       "      <td>0.25</td>\n",
       "      <td>0.0</td>\n",
       "      <td>0.0</td>\n",
       "      <td>0.0</td>\n",
       "      <td>0.0</td>\n",
       "      <td>0.833333</td>\n",
       "      <td>1.0</td>\n",
       "      <td>1.000000</td>\n",
       "    </tr>\n",
       "    <tr>\n",
       "      <th>147865</th>\n",
       "      <td>0.0</td>\n",
       "      <td>0.0</td>\n",
       "      <td>0.0</td>\n",
       "      <td>0.0</td>\n",
       "      <td>0.703704</td>\n",
       "      <td>0.0</td>\n",
       "      <td>0.0</td>\n",
       "      <td>0.0</td>\n",
       "      <td>1.0</td>\n",
       "      <td>1.0</td>\n",
       "      <td>...</td>\n",
       "      <td>1.0</td>\n",
       "      <td>0.0</td>\n",
       "      <td>0.50</td>\n",
       "      <td>0.4</td>\n",
       "      <td>0.0</td>\n",
       "      <td>0.0</td>\n",
       "      <td>1.0</td>\n",
       "      <td>0.500000</td>\n",
       "      <td>0.6</td>\n",
       "      <td>1.000000</td>\n",
       "    </tr>\n",
       "    <tr>\n",
       "      <th>32456</th>\n",
       "      <td>0.0</td>\n",
       "      <td>1.0</td>\n",
       "      <td>0.0</td>\n",
       "      <td>1.0</td>\n",
       "      <td>0.703704</td>\n",
       "      <td>1.0</td>\n",
       "      <td>0.0</td>\n",
       "      <td>0.0</td>\n",
       "      <td>1.0</td>\n",
       "      <td>1.0</td>\n",
       "      <td>...</td>\n",
       "      <td>1.0</td>\n",
       "      <td>0.0</td>\n",
       "      <td>0.75</td>\n",
       "      <td>0.0</td>\n",
       "      <td>0.0</td>\n",
       "      <td>0.0</td>\n",
       "      <td>0.0</td>\n",
       "      <td>0.583333</td>\n",
       "      <td>0.6</td>\n",
       "      <td>0.285714</td>\n",
       "    </tr>\n",
       "    <tr>\n",
       "      <th>165934</th>\n",
       "      <td>1.0</td>\n",
       "      <td>1.0</td>\n",
       "      <td>1.0</td>\n",
       "      <td>1.0</td>\n",
       "      <td>0.444444</td>\n",
       "      <td>1.0</td>\n",
       "      <td>1.0</td>\n",
       "      <td>1.0</td>\n",
       "      <td>1.0</td>\n",
       "      <td>1.0</td>\n",
       "      <td>...</td>\n",
       "      <td>1.0</td>\n",
       "      <td>0.0</td>\n",
       "      <td>0.50</td>\n",
       "      <td>0.0</td>\n",
       "      <td>0.0</td>\n",
       "      <td>1.0</td>\n",
       "      <td>1.0</td>\n",
       "      <td>0.916667</td>\n",
       "      <td>1.0</td>\n",
       "      <td>0.285714</td>\n",
       "    </tr>\n",
       "    <tr>\n",
       "      <th>253446</th>\n",
       "      <td>0.0</td>\n",
       "      <td>1.0</td>\n",
       "      <td>1.0</td>\n",
       "      <td>1.0</td>\n",
       "      <td>0.777778</td>\n",
       "      <td>1.0</td>\n",
       "      <td>0.0</td>\n",
       "      <td>0.0</td>\n",
       "      <td>0.0</td>\n",
       "      <td>1.0</td>\n",
       "      <td>...</td>\n",
       "      <td>1.0</td>\n",
       "      <td>0.0</td>\n",
       "      <td>0.75</td>\n",
       "      <td>0.4</td>\n",
       "      <td>0.2</td>\n",
       "      <td>1.0</td>\n",
       "      <td>0.0</td>\n",
       "      <td>0.833333</td>\n",
       "      <td>0.2</td>\n",
       "      <td>0.000000</td>\n",
       "    </tr>\n",
       "  </tbody>\n",
       "</table>\n",
       "<p>5 rows × 22 columns</p>\n",
       "</div>"
      ],
      "text/plain": [
       "        Diabetes_012  HighBP  HighChol  CholCheck       BMI  Smoker  Stroke  \\\n",
       "40181            0.0     1.0       0.0        1.0  0.407407     0.0     0.0   \n",
       "147865           0.0     0.0       0.0        0.0  0.703704     0.0     0.0   \n",
       "32456            0.0     1.0       0.0        1.0  0.703704     1.0     0.0   \n",
       "165934           1.0     1.0       1.0        1.0  0.444444     1.0     1.0   \n",
       "253446           0.0     1.0       1.0        1.0  0.777778     1.0     0.0   \n",
       "\n",
       "        HeartDiseaseorAttack  PhysActivity  Fruits  ...  AnyHealthcare  \\\n",
       "40181                    0.0           1.0     1.0  ...            1.0   \n",
       "147865                   0.0           1.0     1.0  ...            1.0   \n",
       "32456                    0.0           1.0     1.0  ...            1.0   \n",
       "165934                   1.0           1.0     1.0  ...            1.0   \n",
       "253446                   0.0           0.0     1.0  ...            1.0   \n",
       "\n",
       "        NoDocbcCost  GenHlth  MentHlth  PhysHlth  DiffWalk  Sex       Age  \\\n",
       "40181           0.0     0.25       0.0       0.0       0.0  0.0  0.833333   \n",
       "147865          0.0     0.50       0.4       0.0       0.0  1.0  0.500000   \n",
       "32456           0.0     0.75       0.0       0.0       0.0  0.0  0.583333   \n",
       "165934          0.0     0.50       0.0       0.0       1.0  1.0  0.916667   \n",
       "253446          0.0     0.75       0.4       0.2       1.0  0.0  0.833333   \n",
       "\n",
       "        Education    Income  \n",
       "40181         1.0  1.000000  \n",
       "147865        0.6  1.000000  \n",
       "32456         0.6  0.285714  \n",
       "165934        1.0  0.285714  \n",
       "253446        0.2  0.000000  \n",
       "\n",
       "[5 rows x 22 columns]"
      ]
     },
     "execution_count": 13,
     "metadata": {},
     "output_type": "execute_result"
    }
   ],
   "source": [
    "train_binary_scaled.head()"
   ]
  },
  {
   "cell_type": "code",
   "execution_count": 14,
   "id": "b958276a",
   "metadata": {},
   "outputs": [],
   "source": [
    "X_train = train_binary_scaled.loc[:, train_binary_scaled.columns != 'Diabetes_012']\n",
    "y_train = train_binary_scaled[\"Diabetes_012\"]\n",
    "\n",
    "X_test = test_binary_scaled.loc[:, test_binary_scaled.columns != 'Diabetes_012']\n",
    "y_test = test_binary_scaled[\"Diabetes_012\"]"
   ]
  },
  {
   "cell_type": "code",
   "execution_count": null,
   "id": "171b2095",
   "metadata": {},
   "outputs": [
    {
     "name": "stdout",
     "output_type": "stream",
     "text": [
      "Fitting 5 folds for each of 28 candidates, totalling 140 fits\n"
     ]
    },
    {
     "name": "stderr",
     "output_type": "stream",
     "text": [
      "/Users/hubert/opt/anaconda3/lib/python3.9/site-packages/sklearn/model_selection/_validation.py:372: FitFailedWarning: \n",
      "35 fits failed out of a total of 140.\n",
      "The score on these train-test partitions for these parameters will be set to nan.\n",
      "If these failures are not expected, you can try to debug them by setting error_score='raise'.\n",
      "\n",
      "Below are more details about the failures:\n",
      "--------------------------------------------------------------------------------\n",
      "35 fits failed with the following error:\n",
      "Traceback (most recent call last):\n",
      "  File \"/Users/hubert/opt/anaconda3/lib/python3.9/site-packages/sklearn/model_selection/_validation.py\", line 680, in _fit_and_score\n",
      "    estimator.fit(X_train, y_train, **fit_params)\n",
      "  File \"/Users/hubert/opt/anaconda3/lib/python3.9/site-packages/sklearn/linear_model/_logistic.py\", line 1461, in fit\n",
      "    solver = _check_solver(self.solver, self.penalty, self.dual)\n",
      "  File \"/Users/hubert/opt/anaconda3/lib/python3.9/site-packages/sklearn/linear_model/_logistic.py\", line 447, in _check_solver\n",
      "    raise ValueError(\n",
      "ValueError: Solver lbfgs supports only 'l2' or 'none' penalties, got l1 penalty.\n",
      "\n",
      "  warnings.warn(some_fits_failed_message, FitFailedWarning)\n",
      "/Users/hubert/opt/anaconda3/lib/python3.9/site-packages/sklearn/model_selection/_search.py:969: UserWarning: One or more of the test scores are non-finite: [       nan 0.85952252 0.86049192 0.86048619        nan 0.86156458\n",
      " 0.86158179 0.86158179        nan 0.86094508 0.86101391 0.86101391\n",
      "        nan 0.86089345 0.86088198 0.86088198        nan 0.86086477\n",
      " 0.86086477 0.86086477        nan 0.86085904 0.86086477 0.86085904\n",
      "        nan 0.86086477 0.86086477 0.86085904]\n",
      "  warnings.warn(\n"
     ]
    },
    {
     "name": "stdout",
     "output_type": "stream",
     "text": [
      "Fitting 5 folds for each of 120 candidates, totalling 600 fits\n"
     ]
    }
   ],
   "source": [
    "# Define hyperparameters for Logistic Regression\n",
    "logistic_regression_params = {\n",
    "    'C': [0.001, 0.01, 0.1, 1, 10, 100, 1000],  # Regularization parameter\n",
    "    'solver': ['lbfgs', 'saga'],  # Solver for optimization problem\n",
    "    'penalty': ['l1', 'l2']  # Regularization penalty\n",
    "}\n",
    "\n",
    "# Define hyperparameters for k-Nearest Neighbors\n",
    "knn_params = {\n",
    "    'n_neighbors': list(range(1, 31)),  # Number of neighbors\n",
    "    'weights': ['uniform', 'distance'],  # Weight function used in prediction\n",
    "    'metric': ['euclidean', 'manhattan']  # Distance metric\n",
    "}\n",
    "\n",
    "# Define hyperparameters for Random Forest\n",
    "random_forest_params = {\n",
    "    'n_estimators': [50, 100, 200],  # Number of trees in the forest\n",
    "    'max_depth': [10, 20, 30, None],  # Maximum depth of the tree\n",
    "    'min_samples_split': [2, 5, 10],  # Minimum number of samples required to split a node\n",
    "    'min_samples_leaf': [1, 2, 4]  # Minimum number of samples required at each leaf node\n",
    "}\n",
    "\n",
    "# Perform grid search for Logistic Regression\n",
    "grid_search_logistic = GridSearchCV(LogisticRegression(), logistic_regression_params, scoring='accuracy', cv=5, verbose=1, n_jobs=-1)\n",
    "grid_search_logistic.fit(X_train, y_train)\n",
    "\n",
    "# Perform grid search for k-Nearest Neighbors\n",
    "grid_search_knn = GridSearchCV(KNeighborsClassifier(), knn_params, scoring='accuracy', cv=5, verbose=1, n_jobs=-1)\n",
    "grid_search_knn.fit(X_train, y_train)\n",
    "\n",
    "# Perform grid search for Random Forest\n",
    "grid_search_rf = GridSearchCV(RandomForestClassifier(), random_forest_params, scoring='accuracy', cv=5, verbose=1, n_jobs=-1)\n",
    "grid_search_rf.fit(X_train, y_train)\n",
    "\n",
    "# Print best parameters and corresponding scores for each classifier\n",
    "print(\"Best parameters for Logistic Regression:\")\n",
    "print(grid_search_logistic.best_params_)\n",
    "print(\"Best cross-validation accuracy score for Logistic Regression: {:.2f}\".format(grid_search_logistic.best_score_))\n",
    "\n",
    "print(\"Best parameters for k-Nearest Neighbors:\")\n",
    "print(grid_search_knn.best_params_)\n",
    "print(\"Best cross-validation accuracy score for k-Nearest Neighbors: {:.2f}\".format(grid_search_knn.best_score_))\n",
    "\n",
    "print(\"Best parameters for Random Forest:\")\n",
    "print(grid_search_rf.best_params_)\n",
    "print(\"Best cross-validation accuracy score for Random Forest: {:.2f}\".format(grid_search_rf.best_score_))\n",
    "\n"
   ]
  },
  {
   "cell_type": "code",
   "execution_count": null,
   "id": "842afa63",
   "metadata": {},
   "outputs": [],
   "source": []
  }
 ],
 "metadata": {
  "kernelspec": {
   "display_name": "Python 3 (ipykernel)",
   "language": "python",
   "name": "python3"
  },
  "language_info": {
   "codemirror_mode": {
    "name": "ipython",
    "version": 3
   },
   "file_extension": ".py",
   "mimetype": "text/x-python",
   "name": "python",
   "nbconvert_exporter": "python",
   "pygments_lexer": "ipython3",
   "version": "3.9.12"
  }
 },
 "nbformat": 4,
 "nbformat_minor": 5
}
