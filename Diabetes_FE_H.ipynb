{
 "cells": [
  {
   "cell_type": "markdown",
   "id": "821f8378",
   "metadata": {},
   "source": [
    "# Feature engineering and first models for Diabetes dataset"
   ]
  },
  {
   "cell_type": "code",
   "execution_count": 1,
   "id": "539091b3",
   "metadata": {},
   "outputs": [
    {
     "name": "stdout",
     "output_type": "stream",
     "text": [
      "Defaulting to user installation because normal site-packages is not writeable\n",
      "Requirement already satisfied: feature_engine in /home/iwaniukooo/.local/lib/python3.10/site-packages (1.7.0)\n",
      "Requirement already satisfied: numpy>=1.18.2 in /home/iwaniukooo/.local/lib/python3.10/site-packages (from feature_engine) (1.26.3)\n",
      "Requirement already satisfied: pandas>=2.2.0 in /home/iwaniukooo/.local/lib/python3.10/site-packages (from feature_engine) (2.2.2)\n",
      "Requirement already satisfied: scikit-learn>=1.4.0 in /home/iwaniukooo/.local/lib/python3.10/site-packages (from feature_engine) (1.4.2)\n",
      "Requirement already satisfied: scipy>=1.4.1 in /home/iwaniukooo/.local/lib/python3.10/site-packages (from feature_engine) (1.11.4)\n",
      "Requirement already satisfied: statsmodels>=0.11.1 in /home/iwaniukooo/.local/lib/python3.10/site-packages (from feature_engine) (0.14.1)\n",
      "Requirement already satisfied: python-dateutil>=2.8.2 in /home/iwaniukooo/.local/lib/python3.10/site-packages (from pandas>=2.2.0->feature_engine) (2.8.2)\n",
      "Requirement already satisfied: pytz>=2020.1 in /usr/lib/python3/dist-packages (from pandas>=2.2.0->feature_engine) (2022.1)\n",
      "Requirement already satisfied: tzdata>=2022.7 in /home/iwaniukooo/.local/lib/python3.10/site-packages (from pandas>=2.2.0->feature_engine) (2023.3)\n",
      "Requirement already satisfied: joblib>=1.2.0 in /home/iwaniukooo/.local/lib/python3.10/site-packages (from scikit-learn>=1.4.0->feature_engine) (1.3.2)\n",
      "Requirement already satisfied: threadpoolctl>=2.0.0 in /home/iwaniukooo/.local/lib/python3.10/site-packages (from scikit-learn>=1.4.0->feature_engine) (3.3.0)\n",
      "Requirement already satisfied: patsy>=0.5.4 in /home/iwaniukooo/.local/lib/python3.10/site-packages (from statsmodels>=0.11.1->feature_engine) (0.5.6)\n",
      "Requirement already satisfied: packaging>=21.3 in /home/iwaniukooo/.local/lib/python3.10/site-packages (from statsmodels>=0.11.1->feature_engine) (23.1)\n",
      "Requirement already satisfied: six in /usr/lib/python3/dist-packages (from patsy>=0.5.4->statsmodels>=0.11.1->feature_engine) (1.16.0)\n",
      "\u001b[33mDEPRECATION: distro-info 1.1build1 has a non-standard version number. pip 24.0 will enforce this behaviour change. A possible replacement is to upgrade to a newer version of distro-info or contact the author to suggest that they release a version with a conforming version number. Discussion can be found at https://github.com/pypa/pip/issues/12063\u001b[0m\u001b[33m\n",
      "\u001b[0m\u001b[33mDEPRECATION: python-debian 0.1.43ubuntu1 has a non-standard version number. pip 24.0 will enforce this behaviour change. A possible replacement is to upgrade to a newer version of python-debian or contact the author to suggest that they release a version with a conforming version number. Discussion can be found at https://github.com/pypa/pip/issues/12063\u001b[0m\u001b[33m\n",
      "\u001b[0m\n",
      "\u001b[1m[\u001b[0m\u001b[34;49mnotice\u001b[0m\u001b[1;39;49m]\u001b[0m\u001b[39;49m A new release of pip is available: \u001b[0m\u001b[31;49m23.3.2\u001b[0m\u001b[39;49m -> \u001b[0m\u001b[32;49m24.0\u001b[0m\n",
      "\u001b[1m[\u001b[0m\u001b[34;49mnotice\u001b[0m\u001b[1;39;49m]\u001b[0m\u001b[39;49m To update, run: \u001b[0m\u001b[32;49mpip install --upgrade pip\u001b[0m\n",
      "Note: you may need to restart the kernel to use updated packages.\n"
     ]
    }
   ],
   "source": [
    "%pip install feature_engine"
   ]
  },
  {
   "cell_type": "code",
   "execution_count": 2,
   "id": "0286934b",
   "metadata": {},
   "outputs": [],
   "source": [
    "import pandas as pd\n",
    "import numpy as np\n",
    "from matplotlib import pyplot as plt\n",
    "from sklearn.model_selection import train_test_split\n",
    "from sklearn.preprocessing import MinMaxScaler\n",
    "from sklearn.model_selection import RandomizedSearchCV, cross_validate, GridSearchCV\n",
    "from sklearn.linear_model import LogisticRegression\n",
    "from sklearn.neighbors import KNeighborsClassifier\n",
    "from sklearn.ensemble import RandomForestClassifier\n",
    "from feature_engine.selection import SelectBySingleFeaturePerformance\n",
    "from sklearn.metrics import accuracy_score, roc_auc_score"
   ]
  },
  {
   "cell_type": "code",
   "execution_count": 3,
   "id": "a4b23228",
   "metadata": {},
   "outputs": [],
   "source": [
    "data = pd.read_csv(\"data/diabetes_012_health_indicators_BRFSS2015.csv\")\n",
    "\n",
    "train_set = pd.read_csv(\"data/train_set.csv\")\n",
    "test_set= pd.read_csv(\"data/test_set.csv\")\n"
   ]
  },
  {
   "cell_type": "code",
   "execution_count": 4,
   "id": "bf2326d8",
   "metadata": {},
   "outputs": [
    {
     "name": "stdout",
     "output_type": "stream",
     "text": [
      "<class 'pandas.core.frame.DataFrame'>\n",
      "RangeIndex: 253680 entries, 0 to 253679\n",
      "Columns: 22 entries, Diabetes_012 to Income\n",
      "dtypes: float64(22)\n",
      "memory usage: 42.6 MB\n"
     ]
    }
   ],
   "source": [
    "data.info(verbose = False, memory_usage='deep')"
   ]
  },
  {
   "cell_type": "code",
   "execution_count": 5,
   "id": "b673c83c",
   "metadata": {},
   "outputs": [],
   "source": [
    "data[\"Diabetes_012\"] = data[\"Diabetes_012\"].astype('int8')\n",
    "data[\"HighBP\"] = data[\"HighBP\"].astype('int8')\n",
    "data[\"HighChol\"] = data[\"HighChol\"].astype('int8')\n",
    "data[\"CholCheck\"] = data[\"CholCheck\"].astype('int8')\n",
    "data[\"BMI\"] = data[\"BMI\"].astype('int8')\n",
    "data[\"Smoker\"] = data[\"Smoker\"].astype('int8')\n",
    "data[\"Stroke\"] = data[\"Stroke\"].astype('int8')\n",
    "data[\"HeartDiseaseorAttack\"] = data[\"HeartDiseaseorAttack\"].astype('int8')\n",
    "data[\"PhysActivity\"] = data[\"PhysActivity\"].astype('int8')\n",
    "data[\"Fruits\"] = data[\"Fruits\"].astype('int8') \n",
    "data[\"Veggies\"] = data[\"Veggies\"].astype('int8')\n",
    "data[\"HvyAlcoholConsump\"] = data[\"HvyAlcoholConsump\"].astype('int8')\n",
    "data[\"AnyHealthcare\"] = data[\"AnyHealthcare\"].astype('int8')\n",
    "data[\"NoDocbcCost\"] = data[\"NoDocbcCost\"].astype('int8')\n",
    "data[\"GenHlth\"] = data[\"GenHlth\"].astype('int8')\n",
    "data[\"MentHlth\"] = data[\"MentHlth\"].astype('int8')\n",
    "data[\"PhysHlth\"] = data[\"PhysHlth\"].astype('int8')\n",
    "data[\"DiffWalk\"] = data[\"DiffWalk\"].astype('int8')\n",
    "data[\"Sex\"] = data[\"Sex\"].astype('int8')\n",
    "data[\"Age\"] = data[\"Age\"].astype('int8')\n",
    "data[\"Education\"] = data[\"Education\"].astype('int8')\n",
    "data[\"Income\"] =data[\"Income\"].astype('int8')"
   ]
  },
  {
   "cell_type": "code",
   "execution_count": 6,
   "id": "d5d15be2",
   "metadata": {},
   "outputs": [
    {
     "name": "stdout",
     "output_type": "stream",
     "text": [
      "<class 'pandas.core.frame.DataFrame'>\n",
      "RangeIndex: 253680 entries, 0 to 253679\n",
      "Columns: 22 entries, Diabetes_012 to Income\n",
      "dtypes: int8(22)\n",
      "memory usage: 5.3 MB\n"
     ]
    }
   ],
   "source": [
    "data.info(verbose = False, memory_usage='deep')"
   ]
  },
  {
   "cell_type": "markdown",
   "id": "5330f093",
   "metadata": {},
   "source": [
    "### Remove outliers from BMI"
   ]
  },
  {
   "cell_type": "code",
   "execution_count": 7,
   "id": "de43e347",
   "metadata": {},
   "outputs": [],
   "source": [
    "df_filtered = data.copy(deep=True)\n",
    "\n",
    "# Identify outliers for BMI\n",
    "Q1 = df_filtered['BMI'].quantile(0.25)\n",
    "Q3 = df_filtered['BMI'].quantile(0.75)\n",
    "IQR = Q3 - Q1\n",
    "lower_bound = Q1 - 1.5 * IQR\n",
    "upper_bound = Q3 + 1.5 * IQR\n",
    "\n",
    "# Find outliers for BMI\n",
    "outliers_bmi = (df_filtered['BMI'] < lower_bound) | (df_filtered['BMI'] > upper_bound)\n",
    "\n",
    "# Replace outliers with the last valid value\n",
    "last_valid_bmi = df_filtered['BMI'][~outliers_bmi].iloc[-1]\n",
    "df_filtered.loc[outliers_bmi, 'BMI'] = last_valid_bmi"
   ]
  },
  {
   "cell_type": "code",
   "execution_count": 8,
   "id": "78789be9",
   "metadata": {
    "scrolled": false
   },
   "outputs": [
    {
     "data": {
      "image/png": "[encoded data removed]",
      "text/plain": [
       "<Figure size 640x480 with 1 Axes>"
      ]
     },
     "metadata": {},
     "output_type": "display_data"
    }
   ],
   "source": [
    "# plt.figure(figsize=(8, 6))\n",
    "# df_filtered.boxplot(column=['BMI'])\n",
    "plt.title('Box Plot of BMI')\n",
    "plt.ylabel('BMI')\n",
    "plt.show()"
   ]
  },
  {
   "cell_type": "markdown",
   "id": "5e3d05cf",
   "metadata": {},
   "source": [
    "### Binning of PhysHlth and MentHlth"
   ]
  },
  {
   "cell_type": "code",
   "execution_count": 9,
   "id": "53ede0d0",
   "metadata": {},
   "outputs": [],
   "source": [
    "df_filtered[\"PhysHlth\"] = pd.cut(df_filtered[\"PhysHlth\"],\n",
    "bins=[-np.inf, 5., 10., 15., 20., 25., np.inf],\n",
    "labels=[1, 2, 3, 4, 5, 6])"
   ]
  },
  {
   "cell_type": "code",
   "execution_count": 10,
   "id": "95830786",
   "metadata": {
    "scrolled": true
   },
   "outputs": [
    {
     "data": {
      "text/plain": [
       "PhysHlth\n",
       "1    206863\n",
       "6     20305\n",
       "2     12451\n",
       "3      8209\n",
       "4      3655\n",
       "5      2197\n",
       "Name: count, dtype: int64"
      ]
     },
     "execution_count": 10,
     "metadata": {},
     "output_type": "execute_result"
    }
   ],
   "source": [
    "df_filtered[\"PhysHlth\"].value_counts()"
   ]
  },
  {
   "cell_type": "code",
   "execution_count": 11,
   "id": "2cab7d55",
   "metadata": {},
   "outputs": [],
   "source": [
    "df_filtered[\"MentHlth\"] = pd.cut(df_filtered[\"MentHlth\"],\n",
    "bins=[-np.inf, 5., 10., 15., 20., 25., np.inf],\n",
    "labels=[1, 2, 3, 4, 5, 6])"
   ]
  },
  {
   "cell_type": "code",
   "execution_count": 12,
   "id": "7e85bdfc",
   "metadata": {
    "scrolled": true
   },
   "outputs": [
    {
     "data": {
      "text/plain": [
       "MentHlth\n",
       "1    217472\n",
       "6     12697\n",
       "2     11191\n",
       "3      7152\n",
       "4      3619\n",
       "5      1549\n",
       "Name: count, dtype: int64"
      ]
     },
     "execution_count": 12,
     "metadata": {},
     "output_type": "execute_result"
    }
   ],
   "source": [
    "df_filtered[\"MentHlth\"].value_counts()"
   ]
  },
  {
   "cell_type": "markdown",
   "id": "2ec711c2",
   "metadata": {},
   "source": [
    "### Remove prediabetes from dataset"
   ]
  },
  {
   "cell_type": "code",
   "execution_count": 13,
   "id": "d72a8ec6",
   "metadata": {},
   "outputs": [],
   "source": [
    "df_filtered_binary = df_filtered[(df_filtered[\"Diabetes_012\"] == 0) | (df_filtered[\"Diabetes_012\"] == 2)]"
   ]
  },
  {
   "cell_type": "code",
   "execution_count": 14,
   "id": "6e1ba06f",
   "metadata": {},
   "outputs": [],
   "source": [
    "# train_set, v_t_set = train_test_split(\n",
    "# df_filtered_binary, test_size=0.3, stratify=df_filtered_binary[\"Diabetes_012\"], random_state=42)\n",
    "\n",
    "# validation_set, test_set = train_test_split(\n",
    "# v_t_set, test_size=0.3, stratify=v_t_set[\"Diabetes_012\"], random_state=42)\n",
    "\n",
    "#validation_set.to_csv(\"data/validation_set.csv\", index=False)\n",
    "#test_set.to_csv(\"data/test_set.csv\", index = False)\n",
    "#train_set.to_csv(\"data/train_set.csv\", index = False)"
   ]
  },
  {
   "cell_type": "markdown",
   "id": "93274270",
   "metadata": {},
   "source": [
    "### Scale columns to [0,1]"
   ]
  },
  {
   "cell_type": "code",
   "execution_count": 15,
   "id": "21a0625e",
   "metadata": {},
   "outputs": [],
   "source": [
    "min_max_scaler = MinMaxScaler(feature_range=(0, 1))"
   ]
  },
  {
   "cell_type": "code",
   "execution_count": 16,
   "id": "581169ce",
   "metadata": {},
   "outputs": [],
   "source": [
    "train_binary_scaled = pd.DataFrame(min_max_scaler.fit_transform(train_set.values), columns=train_set.columns, index=train_set.index)"
   ]
  },
  {
   "cell_type": "code",
   "execution_count": 17,
   "id": "7b4b2029",
   "metadata": {},
   "outputs": [],
   "source": [
    "test_binary_scaled = pd.DataFrame(min_max_scaler.transform(test_set.values), columns=test_set.columns, index=test_set.index)"
   ]
  },
  {
   "cell_type": "code",
   "execution_count": 18,
   "id": "f3f94157",
   "metadata": {},
   "outputs": [],
   "source": [
    "# train_binary_scaled.describe().loc[(\"max\", \"min\"), :]"
   ]
  },
  {
   "cell_type": "code",
   "execution_count": 19,
   "id": "80296f2f",
   "metadata": {},
   "outputs": [],
   "source": [
    "columns_to_reverse = ['Smoker', 'PhysActivity', 'Fruits', 'Veggies', 'HvyAlcoholConsump', 'MentHlth', 'PhysHlth', 'Education', 'Income']\n",
    "\n",
    "for column in columns_to_reverse:\n",
    "    train_binary_scaled[column] = 1 - train_binary_scaled[column]\n",
    "    test_binary_scaled[column] = 1 - test_binary_scaled[column]"
   ]
  },
  {
   "cell_type": "code",
   "execution_count": 20,
   "id": "b958276a",
   "metadata": {},
   "outputs": [],
   "source": [
    "X_train = train_binary_scaled.loc[:, train_binary_scaled.columns != 'Diabetes_012']\n",
    "y_train = train_binary_scaled[\"Diabetes_012\"]\n",
    "\n",
    "X_test = test_binary_scaled.loc[:, test_binary_scaled.columns != 'Diabetes_012']\n",
    "y_test = test_binary_scaled[\"Diabetes_012\"]"
   ]
  },
  {
   "cell_type": "markdown",
   "id": "261b7f3c",
   "metadata": {},
   "source": [
    "### First models"
   ]
  },
  {
   "cell_type": "markdown",
   "id": "09cc9490",
   "metadata": {},
   "source": [
    "KNeighborsClassifier"
   ]
  },
  {
   "cell_type": "code",
   "execution_count": 21,
   "id": "38e4530b",
   "metadata": {
    "scrolled": true
   },
   "outputs": [
    {
     "name": "stdout",
     "output_type": "stream",
     "text": [
      "R^2 score:  0.8440776265893375\n",
      "Accuracy score:  0.8440776265893375\n"
     ]
    }
   ],
   "source": [
    "knn = KNeighborsClassifier(n_neighbors=10, weights='distance', algorithm='auto', leaf_size=30, p=2, metric='cosine', metric_params=None, n_jobs=None)\n",
    "knn = KNeighborsClassifier(n_neighbors=5, weights='uniform', algorithm='auto', leaf_size=30, p=2, metric='euclidean', metric_params=None, n_jobs=None)\n",
    "\n",
    "knn.fit(X_train, y_train)\n",
    "y_predicted = knn.predict(X_test)\n",
    "\n",
    "print('R^2 score: ', knn.score(X_test, y_test)) # R^2 score - how much better the model is than a mean\n",
    "print('Accuracy score: ', accuracy_score(y_test, y_predicted))"
   ]
  },
  {
   "cell_type": "markdown",
   "id": "290b190f",
   "metadata": {},
   "source": [
    "RandomForestClassifier"
   ]
  },
  {
   "cell_type": "code",
   "execution_count": 22,
   "id": "a07e6c75",
   "metadata": {},
   "outputs": [
    {
     "data": {
      "text/plain": [
       "0.8531340620120456"
      ]
     },
     "execution_count": 22,
     "metadata": {},
     "output_type": "execute_result"
    }
   ],
   "source": [
    "# Random forest model focusing on sensitivity. Gini impurity criterion for choosing the best split nodes\n",
    "rf = RandomForestClassifier(n_estimators=100, criterion='gini', min_samples_split=2, min_samples_leaf=1,  bootstrap=True )\n",
    "rf.fit(X_train, y_train)\n",
    "rf.score(X_test, y_test)"
   ]
  },
  {
   "cell_type": "markdown",
   "id": "94382eb3",
   "metadata": {},
   "source": [
    "LogisticRegression"
   ]
  },
  {
   "cell_type": "code",
   "execution_count": 23,
   "id": "22cb784b",
   "metadata": {
    "scrolled": true
   },
   "outputs": [
    {
     "data": {
      "text/html": [
       "<div>\n",
       "<style scoped>\n",
       "    .dataframe tbody tr th:only-of-type {\n",
       "        vertical-align: middle;\n",
       "    }\n",
       "\n",
       "    .dataframe tbody tr th {\n",
       "        vertical-align: top;\n",
       "    }\n",
       "\n",
       "    .dataframe thead th {\n",
       "        text-align: right;\n",
       "    }\n",
       "</style>\n",
       "<table border=\"1\" class=\"dataframe\">\n",
       "  <thead>\n",
       "    <tr style=\"text-align: right;\">\n",
       "      <th></th>\n",
       "      <th>0</th>\n",
       "      <th>0</th>\n",
       "    </tr>\n",
       "  </thead>\n",
       "  <tbody>\n",
       "    <tr>\n",
       "      <th>0</th>\n",
       "      <td>HighBP</td>\n",
       "      <td>0.785082</td>\n",
       "    </tr>\n",
       "    <tr>\n",
       "      <th>1</th>\n",
       "      <td>HighChol</td>\n",
       "      <td>0.593487</td>\n",
       "    </tr>\n",
       "    <tr>\n",
       "      <th>2</th>\n",
       "      <td>CholCheck</td>\n",
       "      <td>1.360748</td>\n",
       "    </tr>\n",
       "    <tr>\n",
       "      <th>3</th>\n",
       "      <td>BMI</td>\n",
       "      <td>2.309763</td>\n",
       "    </tr>\n",
       "    <tr>\n",
       "      <th>4</th>\n",
       "      <td>Smoker</td>\n",
       "      <td>0.019282</td>\n",
       "    </tr>\n",
       "    <tr>\n",
       "      <th>5</th>\n",
       "      <td>Stroke</td>\n",
       "      <td>0.125036</td>\n",
       "    </tr>\n",
       "    <tr>\n",
       "      <th>6</th>\n",
       "      <td>HeartDiseaseorAttack</td>\n",
       "      <td>0.264305</td>\n",
       "    </tr>\n",
       "    <tr>\n",
       "      <th>7</th>\n",
       "      <td>PhysActivity</td>\n",
       "      <td>0.083339</td>\n",
       "    </tr>\n",
       "    <tr>\n",
       "      <th>8</th>\n",
       "      <td>Fruits</td>\n",
       "      <td>0.064583</td>\n",
       "    </tr>\n",
       "    <tr>\n",
       "      <th>9</th>\n",
       "      <td>Veggies</td>\n",
       "      <td>0.027603</td>\n",
       "    </tr>\n",
       "    <tr>\n",
       "      <th>10</th>\n",
       "      <td>HvyAlcoholConsump</td>\n",
       "      <td>0.801136</td>\n",
       "    </tr>\n",
       "    <tr>\n",
       "      <th>11</th>\n",
       "      <td>AnyHealthcare</td>\n",
       "      <td>0.050336</td>\n",
       "    </tr>\n",
       "    <tr>\n",
       "      <th>12</th>\n",
       "      <td>NoDocbcCost</td>\n",
       "      <td>0.030366</td>\n",
       "    </tr>\n",
       "    <tr>\n",
       "      <th>13</th>\n",
       "      <td>GenHlth</td>\n",
       "      <td>2.380098</td>\n",
       "    </tr>\n",
       "    <tr>\n",
       "      <th>14</th>\n",
       "      <td>MentHlth</td>\n",
       "      <td>0.066088</td>\n",
       "    </tr>\n",
       "    <tr>\n",
       "      <th>15</th>\n",
       "      <td>PhysHlth</td>\n",
       "      <td>0.195003</td>\n",
       "    </tr>\n",
       "    <tr>\n",
       "      <th>16</th>\n",
       "      <td>DiffWalk</td>\n",
       "      <td>0.215909</td>\n",
       "    </tr>\n",
       "    <tr>\n",
       "      <th>17</th>\n",
       "      <td>Sex</td>\n",
       "      <td>0.251187</td>\n",
       "    </tr>\n",
       "    <tr>\n",
       "      <th>18</th>\n",
       "      <td>Age</td>\n",
       "      <td>1.592066</td>\n",
       "    </tr>\n",
       "    <tr>\n",
       "      <th>19</th>\n",
       "      <td>Education</td>\n",
       "      <td>0.202874</td>\n",
       "    </tr>\n",
       "    <tr>\n",
       "      <th>20</th>\n",
       "      <td>Income</td>\n",
       "      <td>0.435257</td>\n",
       "    </tr>\n",
       "  </tbody>\n",
       "</table>\n",
       "</div>"
      ],
      "text/plain": [
       "                       0         0\n",
       "0                 HighBP  0.785082\n",
       "1               HighChol  0.593487\n",
       "2              CholCheck  1.360748\n",
       "3                    BMI  2.309763\n",
       "4                 Smoker  0.019282\n",
       "5                 Stroke  0.125036\n",
       "6   HeartDiseaseorAttack  0.264305\n",
       "7           PhysActivity  0.083339\n",
       "8                 Fruits  0.064583\n",
       "9                Veggies  0.027603\n",
       "10     HvyAlcoholConsump  0.801136\n",
       "11         AnyHealthcare  0.050336\n",
       "12           NoDocbcCost  0.030366\n",
       "13               GenHlth  2.380098\n",
       "14              MentHlth  0.066088\n",
       "15              PhysHlth  0.195003\n",
       "16              DiffWalk  0.215909\n",
       "17                   Sex  0.251187\n",
       "18                   Age  1.592066\n",
       "19             Education  0.202874\n",
       "20                Income  0.435257"
      ]
     },
     "execution_count": 23,
     "metadata": {},
     "output_type": "execute_result"
    }
   ],
   "source": [
    "log_reg = LogisticRegression(penalty='l2', dual=False, tol=0.0001, C=1.0, fit_intercept=True, intercept_scaling=1, class_weight='balanced', random_state=None, solver='liblinear', max_iter=100, multi_class='ovr', verbose=0, warm_start=False, n_jobs=None, l1_ratio=None)\n",
    "log_reg.fit(X_train, y_train)\n",
    "\n",
    "# Show  coefficients foir each feature and score\n",
    "coefficients = pd.concat([pd.DataFrame(X_train.columns),pd.DataFrame(np.transpose(log_reg.coef_))], axis = 1)\n",
    "#log_reg.score(X_test, y_test),coefficients\n",
    "coefficients\n"
   ]
  },
  {
   "cell_type": "markdown",
   "id": "d9a09d99",
   "metadata": {},
   "source": [
    "### Feature selection"
   ]
  },
  {
   "cell_type": "code",
   "execution_count": 24,
   "id": "eb42298f",
   "metadata": {},
   "outputs": [],
   "source": [
    "#basing on the coefficient ouput before prepare column chart which percentage of sum ov all coeficcients (all of them are positive)\n",
    "#and show how much each feature contributes to the prediction\n",
    "coefficients.columns = ['Feature', 'Coefficient']\n",
    "coefficients['Coefficient'] = coefficients['Coefficient'].abs()\n",
    "coefficients['Percentage'] = coefficients['Coefficient'] / coefficients['Coefficient'].sum()\n",
    "coefficients = coefficients.sort_values(by='Percentage', ascending=False)\n",
    "coefficients['Percentage'] = coefficients['Percentage'] * 100"
   ]
  },
  {
   "cell_type": "code",
   "execution_count": 25,
   "id": "845722e6",
   "metadata": {},
   "outputs": [
    {
     "data": {
      "image/png": "[encoded data removed]",
      "text/plain": [
       "<Figure size 1000x600 with 1 Axes>"
      ]
     },
     "metadata": {},
     "output_type": "display_data"
    }
   ],
   "source": [
    "#show a picture and draw a line at 1% to show which features are the most important\n",
    "plt.figure(figsize=(10, 6))\n",
    "plt.barh(coefficients['Feature'], coefficients['Percentage'])\n",
    "plt.axvline(x=1, color='r', linestyle='--')\n",
    "plt.title('Feature Importance')\n",
    "plt.xlabel('Percentage')\n",
    "plt.ylabel('Feature')\n",
    "plt.show()\n"
   ]
  },
  {
   "cell_type": "markdown",
   "id": "18cd4d83",
   "metadata": {},
   "source": [
    "Wnioski:\n",
    "- dla modelu dużą wartość mają kolumny BMI, GenHlth, Age, CholCheck (?), HighBP, Income, HvyAlcoholConsump\n",
    "- okazuje się, że osoby pijące więcej alkoholu mogą mieć mniejszą szansę na cukrzycę typu 2 (ujemny współczynnik), co może mieć związek z tym, że alkohol podczas trawienia pobudza hormony trawienne wydzielane z trzustki (która jest odpowiedzialna za sekrecję insuliny)"
   ]
  },
  {
   "cell_type": "code",
   "execution_count": 26,
   "id": "5b4ed315",
   "metadata": {},
   "outputs": [],
   "source": [
    "# Calculate the relative impact of each feature\n",
    "relative_impact = abs(log_reg.coef_) / np.sum(abs(log_reg.coef_))\n",
    "\n",
    "# Set the threshold for the minimum relative impact\n",
    "threshold_to_drop = 0.01\n",
    "\n",
    "# Find the columns to drop\n",
    "cols_to_drop = X_train.columns[np.where(relative_impact < threshold_to_drop)[1]]\n",
    "\n",
    "# Check if the columns exist in the datasets before dropping them\n",
    "X_train_filtered = X_train.drop(columns=cols_to_drop, errors='ignore')\n",
    "X_test_filtered = X_test.drop(columns=cols_to_drop, errors='ignore')"
   ]
  },
  {
   "cell_type": "code",
   "execution_count": 27,
   "id": "3801e8b3",
   "metadata": {},
   "outputs": [],
   "source": [
    "# # Removing columns that have coeffictients < 0.1\n",
    "# threshold_to_drop = 0.1\n",
    "# cols_to_drop = X_train.columns[np.where(abs(log_reg.coef_) < threshold_to_drop)[1]]\n",
    "# cols_to_drop\n",
    "\n",
    "# # Sprawdzenie, czy kolumny istnieją w zbiorach danych, zanim zostaną usunięte\n",
    "# X_train_filtered = X_train.drop(columns=cols_to_drop, errors='ignore')\n",
    "# X_test_filtered = X_test.drop(columns=cols_to_drop, errors='ignore')"
   ]
  },
  {
   "cell_type": "code",
   "execution_count": 28,
   "id": "19d192e6",
   "metadata": {},
   "outputs": [
    {
     "name": "stdout",
     "output_type": "stream",
     "text": [
      "Num Features: 10\n",
      "Selected Features: Index(['HighBP', 'HighChol', 'CholCheck', 'BMI', 'HeartDiseaseorAttack',\n",
      "       'HvyAlcoholConsump', 'GenHlth', 'Sex', 'Age', 'Income'],\n",
      "      dtype='object')\n",
      "Rejected Features: Index(['Smoker', 'Stroke', 'PhysActivity', 'Fruits', 'Veggies',\n",
      "       'AnyHealthcare', 'NoDocbcCost', 'MentHlth', 'PhysHlth', 'DiffWalk',\n",
      "       'Education'],\n",
      "      dtype='object')\n",
      "Feature Ranking: [ 1  1  1  1 10  5  1  6  9 12  1  8 11  1  7  3  2  1  1  4  1]\n"
     ]
    }
   ],
   "source": [
    "from sklearn.feature_selection import RFE\n",
    "from sklearn.linear_model import LogisticRegression\n",
    "\n",
    "model = LogisticRegression()\n",
    "rfe = RFE(model)\n",
    "fit = rfe.fit(X_train,y_train)\n",
    "#print the results (name of columns and whether they are important or not)\n",
    "selected_features = X_train.columns[fit.support_]\n",
    "\n",
    "print(\"Num Features: %s\" % (fit.n_features_))\n",
    "print(\"Selected Features: %s\" % (selected_features))\n",
    "# Get the names of the rejected features\n",
    "rejected_features = X_train.columns[~fit.support_]\n",
    "print(\"Rejected Features: %s\" % (rejected_features))\n",
    "print(\"Feature Ranking: %s\" % (fit.ranking_))\n",
    "\n",
    "\n"
   ]
  },
  {
   "cell_type": "markdown",
   "id": "35238b4c",
   "metadata": {},
   "source": [
    "Feature Selection using RandomForestClassifier "
   ]
  },
  {
   "cell_type": "code",
   "execution_count": 29,
   "id": "2a471951",
   "metadata": {},
   "outputs": [],
   "source": [
    "selector = SelectBySingleFeaturePerformance(\n",
    "    estimator=RandomForestClassifier(random_state=1),\n",
    "    scoring='roc_auc',\n",
    "    cv=3,\n",
    "    threshold=0.55,\n",
    ")"
   ]
  },
  {
   "cell_type": "code",
   "execution_count": 30,
   "id": "5f0d2f66",
   "metadata": {},
   "outputs": [],
   "source": [
    "X_sm = X_train.head(1000)\n",
    "y_sm = y_train.head(1000)\n",
    "X_t_sm = X_test.head(100)\n",
    "y_t_sm = y_test.head(100)"
   ]
  },
  {
   "cell_type": "code",
   "execution_count": 31,
   "id": "abc8d1ca",
   "metadata": {},
   "outputs": [],
   "source": [
    "X_train_filtered_RF = selector.fit_transform(X_sm, y_sm)\n",
    "X_test_filtered_RF = selector.transform(X_t_sm)"
   ]
  },
  {
   "cell_type": "code",
   "execution_count": 32,
   "id": "b6522ff5",
   "metadata": {},
   "outputs": [
    {
     "data": {
      "text/html": [
       "<div>\n",
       "<style scoped>\n",
       "    .dataframe tbody tr th:only-of-type {\n",
       "        vertical-align: middle;\n",
       "    }\n",
       "\n",
       "    .dataframe tbody tr th {\n",
       "        vertical-align: top;\n",
       "    }\n",
       "\n",
       "    .dataframe thead th {\n",
       "        text-align: right;\n",
       "    }\n",
       "</style>\n",
       "<table border=\"1\" class=\"dataframe\">\n",
       "  <thead>\n",
       "    <tr style=\"text-align: right;\">\n",
       "      <th></th>\n",
       "      <th>HighBP</th>\n",
       "      <th>HighChol</th>\n",
       "      <th>BMI</th>\n",
       "      <th>HeartDiseaseorAttack</th>\n",
       "      <th>PhysActivity</th>\n",
       "      <th>GenHlth</th>\n",
       "      <th>PhysHlth</th>\n",
       "      <th>DiffWalk</th>\n",
       "      <th>Age</th>\n",
       "      <th>Education</th>\n",
       "      <th>Income</th>\n",
       "    </tr>\n",
       "  </thead>\n",
       "  <tbody>\n",
       "    <tr>\n",
       "      <th>0</th>\n",
       "      <td>1.0</td>\n",
       "      <td>0.0</td>\n",
       "      <td>0.407407</td>\n",
       "      <td>0.0</td>\n",
       "      <td>0.0</td>\n",
       "      <td>0.25</td>\n",
       "      <td>1.000000e+00</td>\n",
       "      <td>0.0</td>\n",
       "      <td>0.833333</td>\n",
       "      <td>-2.220446e-16</td>\n",
       "      <td>0.000000</td>\n",
       "    </tr>\n",
       "    <tr>\n",
       "      <th>1</th>\n",
       "      <td>0.0</td>\n",
       "      <td>0.0</td>\n",
       "      <td>0.703704</td>\n",
       "      <td>0.0</td>\n",
       "      <td>0.0</td>\n",
       "      <td>0.50</td>\n",
       "      <td>1.000000e+00</td>\n",
       "      <td>0.0</td>\n",
       "      <td>0.500000</td>\n",
       "      <td>4.000000e-01</td>\n",
       "      <td>0.000000</td>\n",
       "    </tr>\n",
       "    <tr>\n",
       "      <th>2</th>\n",
       "      <td>1.0</td>\n",
       "      <td>0.0</td>\n",
       "      <td>0.703704</td>\n",
       "      <td>0.0</td>\n",
       "      <td>0.0</td>\n",
       "      <td>0.75</td>\n",
       "      <td>1.000000e+00</td>\n",
       "      <td>0.0</td>\n",
       "      <td>0.583333</td>\n",
       "      <td>4.000000e-01</td>\n",
       "      <td>0.714286</td>\n",
       "    </tr>\n",
       "    <tr>\n",
       "      <th>3</th>\n",
       "      <td>1.0</td>\n",
       "      <td>1.0</td>\n",
       "      <td>0.444444</td>\n",
       "      <td>1.0</td>\n",
       "      <td>0.0</td>\n",
       "      <td>0.50</td>\n",
       "      <td>1.000000e+00</td>\n",
       "      <td>1.0</td>\n",
       "      <td>0.916667</td>\n",
       "      <td>-2.220446e-16</td>\n",
       "      <td>0.714286</td>\n",
       "    </tr>\n",
       "    <tr>\n",
       "      <th>4</th>\n",
       "      <td>1.0</td>\n",
       "      <td>1.0</td>\n",
       "      <td>0.777778</td>\n",
       "      <td>0.0</td>\n",
       "      <td>1.0</td>\n",
       "      <td>0.75</td>\n",
       "      <td>8.000000e-01</td>\n",
       "      <td>1.0</td>\n",
       "      <td>0.833333</td>\n",
       "      <td>8.000000e-01</td>\n",
       "      <td>1.000000</td>\n",
       "    </tr>\n",
       "    <tr>\n",
       "      <th>...</th>\n",
       "      <td>...</td>\n",
       "      <td>...</td>\n",
       "      <td>...</td>\n",
       "      <td>...</td>\n",
       "      <td>...</td>\n",
       "      <td>...</td>\n",
       "      <td>...</td>\n",
       "      <td>...</td>\n",
       "      <td>...</td>\n",
       "      <td>...</td>\n",
       "      <td>...</td>\n",
       "    </tr>\n",
       "    <tr>\n",
       "      <th>995</th>\n",
       "      <td>0.0</td>\n",
       "      <td>1.0</td>\n",
       "      <td>0.592593</td>\n",
       "      <td>0.0</td>\n",
       "      <td>0.0</td>\n",
       "      <td>0.50</td>\n",
       "      <td>1.000000e+00</td>\n",
       "      <td>0.0</td>\n",
       "      <td>0.166667</td>\n",
       "      <td>2.000000e-01</td>\n",
       "      <td>0.571429</td>\n",
       "    </tr>\n",
       "    <tr>\n",
       "      <th>996</th>\n",
       "      <td>0.0</td>\n",
       "      <td>0.0</td>\n",
       "      <td>0.407407</td>\n",
       "      <td>0.0</td>\n",
       "      <td>0.0</td>\n",
       "      <td>0.25</td>\n",
       "      <td>-2.220446e-16</td>\n",
       "      <td>0.0</td>\n",
       "      <td>0.583333</td>\n",
       "      <td>2.000000e-01</td>\n",
       "      <td>0.714286</td>\n",
       "    </tr>\n",
       "    <tr>\n",
       "      <th>997</th>\n",
       "      <td>0.0</td>\n",
       "      <td>1.0</td>\n",
       "      <td>0.592593</td>\n",
       "      <td>0.0</td>\n",
       "      <td>1.0</td>\n",
       "      <td>0.75</td>\n",
       "      <td>4.000000e-01</td>\n",
       "      <td>0.0</td>\n",
       "      <td>0.500000</td>\n",
       "      <td>2.000000e-01</td>\n",
       "      <td>0.142857</td>\n",
       "    </tr>\n",
       "    <tr>\n",
       "      <th>998</th>\n",
       "      <td>0.0</td>\n",
       "      <td>0.0</td>\n",
       "      <td>0.370370</td>\n",
       "      <td>0.0</td>\n",
       "      <td>0.0</td>\n",
       "      <td>0.25</td>\n",
       "      <td>1.000000e+00</td>\n",
       "      <td>0.0</td>\n",
       "      <td>0.083333</td>\n",
       "      <td>-2.220446e-16</td>\n",
       "      <td>0.000000</td>\n",
       "    </tr>\n",
       "    <tr>\n",
       "      <th>999</th>\n",
       "      <td>1.0</td>\n",
       "      <td>1.0</td>\n",
       "      <td>0.518519</td>\n",
       "      <td>0.0</td>\n",
       "      <td>0.0</td>\n",
       "      <td>0.25</td>\n",
       "      <td>1.000000e+00</td>\n",
       "      <td>0.0</td>\n",
       "      <td>0.666667</td>\n",
       "      <td>4.000000e-01</td>\n",
       "      <td>0.000000</td>\n",
       "    </tr>\n",
       "  </tbody>\n",
       "</table>\n",
       "<p>1000 rows × 11 columns</p>\n",
       "</div>"
      ],
      "text/plain": [
       "     HighBP  HighChol       BMI  HeartDiseaseorAttack  PhysActivity  GenHlth  \\\n",
       "0       1.0       0.0  0.407407                   0.0           0.0     0.25   \n",
       "1       0.0       0.0  0.703704                   0.0           0.0     0.50   \n",
       "2       1.0       0.0  0.703704                   0.0           0.0     0.75   \n",
       "3       1.0       1.0  0.444444                   1.0           0.0     0.50   \n",
       "4       1.0       1.0  0.777778                   0.0           1.0     0.75   \n",
       "..      ...       ...       ...                   ...           ...      ...   \n",
       "995     0.0       1.0  0.592593                   0.0           0.0     0.50   \n",
       "996     0.0       0.0  0.407407                   0.0           0.0     0.25   \n",
       "997     0.0       1.0  0.592593                   0.0           1.0     0.75   \n",
       "998     0.0       0.0  0.370370                   0.0           0.0     0.25   \n",
       "999     1.0       1.0  0.518519                   0.0           0.0     0.25   \n",
       "\n",
       "         PhysHlth  DiffWalk       Age     Education    Income  \n",
       "0    1.000000e+00       0.0  0.833333 -2.220446e-16  0.000000  \n",
       "1    1.000000e+00       0.0  0.500000  4.000000e-01  0.000000  \n",
       "2    1.000000e+00       0.0  0.583333  4.000000e-01  0.714286  \n",
       "3    1.000000e+00       1.0  0.916667 -2.220446e-16  0.714286  \n",
       "4    8.000000e-01       1.0  0.833333  8.000000e-01  1.000000  \n",
       "..            ...       ...       ...           ...       ...  \n",
       "995  1.000000e+00       0.0  0.166667  2.000000e-01  0.571429  \n",
       "996 -2.220446e-16       0.0  0.583333  2.000000e-01  0.714286  \n",
       "997  4.000000e-01       0.0  0.500000  2.000000e-01  0.142857  \n",
       "998  1.000000e+00       0.0  0.083333 -2.220446e-16  0.000000  \n",
       "999  1.000000e+00       0.0  0.666667  4.000000e-01  0.000000  \n",
       "\n",
       "[1000 rows x 11 columns]"
      ]
     },
     "execution_count": 32,
     "metadata": {},
     "output_type": "execute_result"
    }
   ],
   "source": [
    "X_train_filtered_RF"
   ]
  },
  {
   "cell_type": "code",
   "execution_count": 33,
   "id": "6fa08827",
   "metadata": {},
   "outputs": [
    {
     "data": {
      "text/plain": [
       "(0.66,\n",
       " 0.6268939393939393,\n",
       "                        0         0\n",
       " 0                 HighBP  0.744631\n",
       " 1               HighChol  1.078584\n",
       " 2                    BMI  0.947635\n",
       " 3   HeartDiseaseorAttack  0.328497\n",
       " 4           PhysActivity  0.496842\n",
       " 5                GenHlth  1.564635\n",
       " 6               PhysHlth  0.160548\n",
       " 7               DiffWalk  0.394322\n",
       " 8                    Age  0.752050\n",
       " 9              Education  0.638585\n",
       " 10                Income  0.290881)"
      ]
     },
     "execution_count": 33,
     "metadata": {},
     "output_type": "execute_result"
    }
   ],
   "source": [
    "log_reg = LogisticRegression(penalty='l2', dual=False, tol=0.0001, C=1.0, fit_intercept=True, intercept_scaling=1, class_weight='balanced', random_state=None, solver='liblinear', max_iter=100, multi_class='ovr', verbose=0, warm_start=False, n_jobs=None, l1_ratio=None)\n",
    "log_reg.fit(X_train_filtered_RF, y_sm)\n",
    "y_predict = log_reg.predict(X_test_filtered_RF)\n",
    "\n",
    "# Show coefficients foir each feature\n",
    "coefficients = pd.concat([pd.DataFrame(X_train_filtered_RF.columns),pd.DataFrame(np.transpose(log_reg.coef_))], axis = 1)\n",
    "log_reg.score(X_test_filtered_RF, y_t_sm), roc_auc_score(y_t_sm, y_predict), coefficients"
   ]
  },
  {
   "cell_type": "markdown",
   "id": "d8cee609",
   "metadata": {},
   "source": [
    "### Check the difference"
   ]
  },
  {
   "cell_type": "code",
   "execution_count": 34,
   "id": "2605af69",
   "metadata": {
    "scrolled": true
   },
   "outputs": [
    {
     "data": {
      "text/plain": [
       "(0.7308498773142985,\n",
       "                        0         0\n",
       " 0                 HighBP  0.786631\n",
       " 1               HighChol  0.594594\n",
       " 2              CholCheck  1.355736\n",
       " 3                    BMI  2.330760\n",
       " 4                 Stroke  0.124968\n",
       " 5   HeartDiseaseorAttack  0.262069\n",
       " 6      HvyAlcoholConsump  0.800696\n",
       " 7                GenHlth  2.395044\n",
       " 8               PhysHlth  0.199245\n",
       " 9               DiffWalk  0.228075\n",
       " 10                   Sex  0.254370\n",
       " 11                   Age  1.590065\n",
       " 12             Education  0.231237\n",
       " 13                Income  0.440113)"
      ]
     },
     "execution_count": 34,
     "metadata": {},
     "output_type": "execute_result"
    }
   ],
   "source": [
    "# Without unnecessary columns\n",
    "log_reg = LogisticRegression(penalty='l2', dual=False, tol=0.0001, C=1.0, fit_intercept=True, intercept_scaling=1, class_weight='balanced', random_state=None, solver='liblinear', max_iter=100, multi_class='ovr', verbose=0, warm_start=False, n_jobs=None, l1_ratio=None)\n",
    "log_reg.fit(X_train_filtered, y_train)\n",
    "\n",
    "# Show coefficients foir each feature\n",
    "coefficients = pd.concat([pd.DataFrame(X_train_filtered.columns),pd.DataFrame(np.transpose(log_reg.coef_))], axis = 1)\n",
    "log_reg.score(X_test_filtered, y_test),coefficients"
   ]
  },
  {
   "cell_type": "markdown",
   "id": "13b1f4ea",
   "metadata": {},
   "source": [
    "Wnioski:\n",
    "- regresja logistyczna daje nieco mniejszy wskaźnik accuracy po wyeliminowaniu najmniej znaczących kolumn"
   ]
  },
  {
   "cell_type": "markdown",
   "id": "a5bf59bc",
   "metadata": {},
   "source": [
    "### Evaluate Logistic Regression model"
   ]
  },
  {
   "cell_type": "code",
   "execution_count": 35,
   "id": "996f665a",
   "metadata": {},
   "outputs": [
    {
     "data": {
      "image/png": "[encoded data removed]",
      "text/plain": [
       "<Figure size 640x480 with 2 Axes>"
      ]
     },
     "metadata": {},
     "output_type": "display_data"
    }
   ],
   "source": [
    "# For output of  Logistic Regression\n",
    "from sklearn.metrics import confusion_matrix\n",
    "y_pred = log_reg.predict(X_test_filtered)\n",
    "# confusion_matrix(y_test, y_pred)\n",
    "\n",
    "import seaborn as sns\n",
    "sns.heatmap(confusion_matrix(y_test, y_pred), annot=True, cmap='Blues', fmt='g')\n",
    "plt.xlabel('Predicted')\n",
    "plt.ylabel('Actual')\n",
    "plt.title('Confusion Matrix')\n",
    "plt.show()\n"
   ]
  },
  {
   "cell_type": "code",
   "execution_count": 36,
   "id": "5c79fb8a",
   "metadata": {
    "scrolled": false
   },
   "outputs": [
    {
     "name": "stdout",
     "output_type": "stream",
     "text": [
      "0.8216306431974946\n"
     ]
    },
    {
     "data": {
      "text/plain": [
       "[<matplotlib.lines.Line2D at 0x7c73e45f8d60>]"
      ]
     },
     "execution_count": 36,
     "metadata": {},
     "output_type": "execute_result"
    },
    {
     "data": {
      "image/png": "[encoded data removed]",
      "text/plain": [
       "<Figure size 640x480 with 1 Axes>"
      ]
     },
     "metadata": {},
     "output_type": "display_data"
    }
   ],
   "source": [
    "# ROC for Logistic Regression\n",
    "from sklearn.metrics import roc_auc_score\n",
    "print(roc_auc_score(y_test, log_reg.predict_proba(X_test_filtered)[:,1]))\n",
    "\n",
    "from sklearn.metrics import roc_curve\n",
    "fpr, tpr, thresholds = roc_curve(y_test, log_reg.predict_proba(X_test_filtered)[:,1])\n",
    "plt.plot(fpr, tpr)\n"
   ]
  },
  {
   "cell_type": "markdown",
   "id": "2d819ef7",
   "metadata": {},
   "source": [
    "### Danger zone"
   ]
  },
  {
   "cell_type": "code",
   "execution_count": 37,
   "id": "f3f0bcb7",
   "metadata": {
    "scrolled": true
   },
   "outputs": [],
   "source": [
    "#now please prepare me basic grid search for knn, logistic regression and random forest\n",
    "#knn\n",
    "# knn_params = {'n_neighbors': [3, 5, 7, 9, 11], 'weights': ['uniform', 'distance'], 'metric': ['euclidean', 'manhattan']}\n",
    "# knn_grid = GridSearchCV(KNeighborsClassifier(), knn_params, cv=5, n_jobs=-1)\n",
    "# knn_grid.fit(X_train, y_train)\n",
    "# knn_grid.best_params_"
   ]
  },
  {
   "cell_type": "code",
   "execution_count": 38,
   "id": "171b2095",
   "metadata": {
    "scrolled": true
   },
   "outputs": [],
   "source": [
    "# Define hyperparameters for Logistic Regression\n",
    "# logistic_regression_params = {\n",
    "#     'C': [0.001, 0.01, 0.1, 1, 10, 100, 1000],  # Regularization parameter\n",
    "#     'solver': ['lbfgs', 'saga'],  # Solver for optimization problem\n",
    "#     'penalty': ['l1', 'l2']  # Regularization penalty\n",
    "# }\n",
    "\n",
    "# Define hyperparameters for k-Nearest Neighbors\n",
    "# knn_params = {\n",
    "#     'n_neighbors': list(range(1, 31)),  # Number of neighbors\n",
    "#     'weights': ['uniform', 'distance'],  # Weight function used in prediction\n",
    "#     'metric': ['euclidean', 'manhattan']  # Distance metric\n",
    "# }\n",
    "\n",
    "# Define hyperparameters for Random Forest\n",
    "# random_forest_params = {\n",
    "#     'n_estimators': [50, 100, 200],  # Number of trees in the forest\n",
    "#     'max_depth': [10, 20, 30, None],  # Maximum depth of the tree\n",
    "#     'min_samples_split': [2, 5, 10],  # Minimum number of samples required to split a node\n",
    "#     'min_samples_leaf': [1, 2, 4]  # Minimum number of samples required at each leaf node\n",
    "# }\n",
    "\n",
    "# Perform grid search for Logistic Regression\n",
    "# grid_search_logistic = GridSearchCV(LogisticRegression(), logistic_regression_params, scoring='accuracy', cv=5, verbose=1, n_jobs=-1)\n",
    "# grid_search_logistic.fit(X_train, y_train)\n",
    "\n",
    "# Perform grid search for k-Nearest Neighbors\n",
    "# grid_search_knn = GridSearchCV(KNeighborsClassifier(), knn_params, scoring='accuracy', cv=5, verbose=1, n_jobs=-1)\n",
    "# grid_search_knn.fit(X_train, y_train)\n",
    "\n",
    "# Perform grid search for Random Forest\n",
    "# grid_search_rf = GridSearchCV(RandomForestClassifier(), random_forest_params, scoring='accuracy', cv=5, verbose=1, n_jobs=-1)\n",
    "# grid_search_rf.fit(X_train, y_train)\n",
    "\n",
    "# Print best parameters and corresponding scores for each classifier\n",
    "# print(\"Best parameters for Logistic Regression:\")\n",
    "# print(grid_search_logistic.best_params_)\n",
    "# print(\"Best cross-validation accuracy score for Logistic Regression: {:.2f}\".format(grid_search_logistic.best_score_))\n",
    "\n",
    "# print(\"Best parameters for k-Nearest Neighbors:\")\n",
    "# print(grid_search_knn.best_params_)\n",
    "# print(\"Best cross-validation accuracy score for k-Nearest Neighbors: {:.2f}\".format(grid_search_knn.best_score_))\n",
    "\n",
    "# print(\"Best parameters for Random Forest:\")\n",
    "# print(grid_search_rf.best_params_)\n",
    "# print(\"Best cross-validation accuracy score for Random Forest: {:.2f}\".format(grid_search_rf.best_score_))\n",
    "\n"
   ]
  },
  {
   "cell_type": "code",
   "execution_count": 39,
   "id": "c4125036",
   "metadata": {},
   "outputs": [],
   "source": [
    "#save filtered\n",
    "X_train_filtered.to_csv(\"data/X_train_filtered.csv\", index=False)\n",
    "X_test_filtered.to_csv(\"data/X_test_filtered.csv\", index=False)\n",
    "#and y\n",
    "y_train.to_csv(\"data/y_train.csv\", index=False)\n",
    "y_test.to_csv(\"data/y_test.csv\", index=False)\n"
   ]
  }
 ],
 "metadata": {
  "kernelspec": {
   "display_name": "Python 3 (ipykernel)",
   "language": "python",
   "name": "python3"
  },
  "language_info": {
   "codemirror_mode": {
    "name": "ipython",
    "version": 3
   },
   "file_extension": ".py",
   "mimetype": "text/x-python",
   "name": "python",
   "nbconvert_exporter": "python",
   "pygments_lexer": "ipython3",
   "version": "3.9.12"
  }
 },
 "nbformat": 4,
 "nbformat_minor": 5
}
